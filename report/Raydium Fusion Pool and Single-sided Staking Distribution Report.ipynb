{
 "cells": [
  {
   "cell_type": "code",
   "execution_count": 1,
   "id": "80d9635e",
   "metadata": {},
   "outputs": [],
   "source": [
    "import aiohttp\n",
    "import asyncio\n",
    "import numpy as np\n",
    "import pandas as pd\n",
    "from aiolimiter import AsyncLimiter\n",
    "\n",
    "import matplotlib.pyplot as plt\n",
    "%matplotlib inline"
   ]
  },
  {
   "cell_type": "code",
   "execution_count": 2,
   "id": "f196283b",
   "metadata": {},
   "outputs": [],
   "source": [
    "from LPInfo import RaydiumPoolInfo\n",
    "from stake_layout import USER_STAKE_INFO_ACCOUNT_LAYOUT, USER_STAKE_INFO_ACCOUNT_LAYOUT_V4\n",
    "from resources.ids import STAKE_PROGRAM_ID_V5, STAKE_PROGRAM_ID_V4"
   ]
  },
  {
   "cell_type": "code",
   "execution_count": 3,
   "id": "5be9a5eb",
   "metadata": {},
   "outputs": [],
   "source": [
    "pd.options.display.float_format = '{:.5f}'.format"
   ]
  },
  {
   "cell_type": "code",
   "execution_count": 4,
   "id": "756c7412",
   "metadata": {},
   "outputs": [],
   "source": [
    "farm_inputs = [\n",
    "    ('FIDA-RAY', STAKE_PROGRAM_ID_V4, USER_STAKE_INFO_ACCOUNT_LAYOUT_V4),\n",
    "    ('OXY-RAY', STAKE_PROGRAM_ID_V4, USER_STAKE_INFO_ACCOUNT_LAYOUT_V4),\n",
    "    ('MAPS-RAY', STAKE_PROGRAM_ID_V4, USER_STAKE_INFO_ACCOUNT_LAYOUT_V4),\n",
    "    ('KIN-RAY', STAKE_PROGRAM_ID_V5, USER_STAKE_INFO_ACCOUNT_LAYOUT),\n",
    "    ('COPE-USDC', STAKE_PROGRAM_ID_V5, USER_STAKE_INFO_ACCOUNT_LAYOUT),\n",
    "    ('MEDIA-USDC', STAKE_PROGRAM_ID_V5, USER_STAKE_INFO_ACCOUNT_LAYOUT),\n",
    "    ('STEP-USDC', STAKE_PROGRAM_ID_V5, USER_STAKE_INFO_ACCOUNT_LAYOUT)\n",
    "]"
   ]
  },
  {
   "cell_type": "code",
   "execution_count": 5,
   "id": "e9c7c154",
   "metadata": {},
   "outputs": [],
   "source": [
    "async def amain_fusion(farm_input):\n",
    "    limiter = AsyncLimiter(15, 1)\n",
    "    async with aiohttp.ClientSession() as session:\n",
    "        async with limiter:\n",
    "            LP = RaydiumPoolInfo(session)\n",
    "            staking_distro_task = asyncio.create_task(LP.get_fusion_LP_dist(*farm_input))\n",
    "            staking_distro = await staking_distro_task\n",
    "            \n",
    "    return pd.DataFrame(staking_distro)"
   ]
  },
  {
   "cell_type": "code",
   "execution_count": 6,
   "id": "05b4e1d0",
   "metadata": {},
   "outputs": [],
   "source": [
    "async def amain_stake():\n",
    "    limiter = AsyncLimiter(15, 1)\n",
    "    async with aiohttp.ClientSession() as session:\n",
    "        async with limiter:\n",
    "            LP = RaydiumPoolInfo(session)\n",
    "            staking_distro_task = asyncio.create_task(LP.get_RAY_staking_dist())\n",
    "            staking_distro = await staking_distro_task\n",
    "    \n",
    "    return pd.DataFrame(staking_distro)"
   ]
  },
  {
   "cell_type": "markdown",
   "id": "2aea02bc",
   "metadata": {},
   "source": [
    "# Fusion Pool Staking Distribution"
   ]
  },
  {
   "cell_type": "markdown",
   "id": "ec3854cd",
   "metadata": {},
   "source": [
    "Here, the distribution of unique addresses that have staked their LP tokens in the fusion pool is shown in histogram."
   ]
  },
  {
   "cell_type": "code",
   "execution_count": 7,
   "id": "1f3e79a0",
   "metadata": {},
   "outputs": [],
   "source": [
    "fusion_task = []\n",
    "for farm_input in farm_inputs:\n",
    "    fusion_task.append(amain_fusion(farm_input))\n",
    "fusion_pool_distros = await asyncio.gather(*fusion_task)"
   ]
  },
  {
   "cell_type": "code",
   "execution_count": 8,
   "id": "41941495",
   "metadata": {},
   "outputs": [],
   "source": [
    "def plot_loghist(x, bins, farm_name, number_offset=2, fusion=True):\n",
    "    hist, bins = np.histogram(x, bins=bins)\n",
    "    logbins = np.logspace(np.log10(bins[0]),np.log10(bins[-1]),len(bins))\n",
    "    plt.figure(figsize=(15,10))\n",
    "    n, bins, patches = plt.hist(x, bins=logbins, rwidth=0.8)\n",
    "    plt.xscale('log')\n",
    "    \n",
    "    xticks = [(bins[idx+1] + value)/2 for idx, value in enumerate(bins[:-1])]\n",
    "    for idx, value in enumerate(n):\n",
    "        if value > 0:\n",
    "            plt.text(xticks[idx], value+number_offset, int(value), ha='center', fontsize=16)\n",
    "    if fusion:\n",
    "        plt.title(\"{} Fusion Pool LP Staking Distribution\".format(farm_name), fontsize=20)\n",
    "    else:\n",
    "        plt.title(\"RAY Single-sided Staking Distribution\", fontsize=20)"
   ]
  },
  {
   "cell_type": "markdown",
   "id": "3571cb07",
   "metadata": {},
   "source": [
    "## FIDA-RAY"
   ]
  },
  {
   "cell_type": "code",
   "execution_count": 9,
   "id": "3e5d0fdf",
   "metadata": {},
   "outputs": [],
   "source": [
    "fida_ray = fusion_pool_distros[0].set_index(\"publicKey\")"
   ]
  },
  {
   "cell_type": "code",
   "execution_count": 10,
   "id": "ec5ffc96",
   "metadata": {},
   "outputs": [
    {
     "data": {
      "text/html": [
       "<div>\n",
       "<style scoped>\n",
       "    .dataframe tbody tr th:only-of-type {\n",
       "        vertical-align: middle;\n",
       "    }\n",
       "\n",
       "    .dataframe tbody tr th {\n",
       "        vertical-align: top;\n",
       "    }\n",
       "\n",
       "    .dataframe thead th {\n",
       "        text-align: right;\n",
       "    }\n",
       "</style>\n",
       "<table border=\"1\" class=\"dataframe\">\n",
       "  <thead>\n",
       "    <tr style=\"text-align: right;\">\n",
       "      <th></th>\n",
       "      <th>Staked FIDA-RAY LP amount</th>\n",
       "    </tr>\n",
       "    <tr>\n",
       "      <th>publicKey</th>\n",
       "      <th></th>\n",
       "    </tr>\n",
       "  </thead>\n",
       "  <tbody>\n",
       "    <tr>\n",
       "      <th>CMvH5UTGGjohTLRARGve66LNXP7qJTHBGbroCw7zxubw</th>\n",
       "      <td>787.78514</td>\n",
       "    </tr>\n",
       "    <tr>\n",
       "      <th>7tqECNwYkvFgrC3asPnLk8DYMXyVTHawwz8TqpH71Mxp</th>\n",
       "      <td>43.02335</td>\n",
       "    </tr>\n",
       "    <tr>\n",
       "      <th>fbp4wgfJJ13DSmiNERKBBR3LWj1vXyymeTgSqaxK3QN</th>\n",
       "      <td>4.54469</td>\n",
       "    </tr>\n",
       "    <tr>\n",
       "      <th>2UjaBHLLrRkNRPAVR7j1RUfR7pMaLZtHei4zAiGkRssJ</th>\n",
       "      <td>121.32604</td>\n",
       "    </tr>\n",
       "    <tr>\n",
       "      <th>5RkE4MUA4Q3uGZuyqLiWWPmJGZ3ENjmwJTwTNws5h3aS</th>\n",
       "      <td>1136.19180</td>\n",
       "    </tr>\n",
       "    <tr>\n",
       "      <th>...</th>\n",
       "      <td>...</td>\n",
       "    </tr>\n",
       "    <tr>\n",
       "      <th>D7ok8YeqUBJjg5KWQLRuEcqZCem5Z6RZM1rbnnTGAupz</th>\n",
       "      <td>2.85088</td>\n",
       "    </tr>\n",
       "    <tr>\n",
       "      <th>CbAbjHxj6rfvqYvkMaybi5k1HsXFcwV24LswU9FF4FnZ</th>\n",
       "      <td>25.08032</td>\n",
       "    </tr>\n",
       "    <tr>\n",
       "      <th>4NY6AgiH7k4Eb3h8QqreuMKJQw7iAv2VSicVsMaLWsh5</th>\n",
       "      <td>8981.22367</td>\n",
       "    </tr>\n",
       "    <tr>\n",
       "      <th>4qVjwDPyiiREwagpJQX6esP2Z7EgtbyQZQtbE9qEvBLG</th>\n",
       "      <td>84.99922</td>\n",
       "    </tr>\n",
       "    <tr>\n",
       "      <th>BFZDEawPDEy68neXTxAJFADunjWr7sXLgPZsaHERBZeF</th>\n",
       "      <td>54.14509</td>\n",
       "    </tr>\n",
       "  </tbody>\n",
       "</table>\n",
       "<p>1143 rows × 1 columns</p>\n",
       "</div>"
      ],
      "text/plain": [
       "                                              Staked FIDA-RAY LP amount\n",
       "publicKey                                                              \n",
       "CMvH5UTGGjohTLRARGve66LNXP7qJTHBGbroCw7zxubw                  787.78514\n",
       "7tqECNwYkvFgrC3asPnLk8DYMXyVTHawwz8TqpH71Mxp                   43.02335\n",
       "fbp4wgfJJ13DSmiNERKBBR3LWj1vXyymeTgSqaxK3QN                     4.54469\n",
       "2UjaBHLLrRkNRPAVR7j1RUfR7pMaLZtHei4zAiGkRssJ                  121.32604\n",
       "5RkE4MUA4Q3uGZuyqLiWWPmJGZ3ENjmwJTwTNws5h3aS                 1136.19180\n",
       "...                                                                 ...\n",
       "D7ok8YeqUBJjg5KWQLRuEcqZCem5Z6RZM1rbnnTGAupz                    2.85088\n",
       "CbAbjHxj6rfvqYvkMaybi5k1HsXFcwV24LswU9FF4FnZ                   25.08032\n",
       "4NY6AgiH7k4Eb3h8QqreuMKJQw7iAv2VSicVsMaLWsh5                 8981.22367\n",
       "4qVjwDPyiiREwagpJQX6esP2Z7EgtbyQZQtbE9qEvBLG                   84.99922\n",
       "BFZDEawPDEy68neXTxAJFADunjWr7sXLgPZsaHERBZeF                   54.14509\n",
       "\n",
       "[1143 rows x 1 columns]"
      ]
     },
     "execution_count": 10,
     "metadata": {},
     "output_type": "execute_result"
    }
   ],
   "source": [
    "fida_ray"
   ]
  },
  {
   "cell_type": "code",
   "execution_count": 11,
   "id": "a818ba5d",
   "metadata": {},
   "outputs": [
    {
     "data": {
      "image/png": "[encoded data removed]",
      "text/plain": [
       "<Figure size 1080x720 with 1 Axes>"
      ]
     },
     "metadata": {
      "needs_background": "light"
     },
     "output_type": "display_data"
    }
   ],
   "source": [
    "plot_loghist(fida_ray, 20, \"FIDA-RAY\")"
   ]
  },
  {
   "cell_type": "markdown",
   "id": "f2dc645a",
   "metadata": {},
   "source": [
    "### Top 20 FIDA-RAY Fusion Pool Whales"
   ]
  },
  {
   "cell_type": "code",
   "execution_count": 12,
   "id": "3f9cb2e6",
   "metadata": {},
   "outputs": [
    {
     "data": {
      "text/html": [
       "<div>\n",
       "<style scoped>\n",
       "    .dataframe tbody tr th:only-of-type {\n",
       "        vertical-align: middle;\n",
       "    }\n",
       "\n",
       "    .dataframe tbody tr th {\n",
       "        vertical-align: top;\n",
       "    }\n",
       "\n",
       "    .dataframe thead th {\n",
       "        text-align: right;\n",
       "    }\n",
       "</style>\n",
       "<table border=\"1\" class=\"dataframe\">\n",
       "  <thead>\n",
       "    <tr style=\"text-align: right;\">\n",
       "      <th></th>\n",
       "      <th>Staked FIDA-RAY LP amount</th>\n",
       "    </tr>\n",
       "    <tr>\n",
       "      <th>publicKey</th>\n",
       "      <th></th>\n",
       "    </tr>\n",
       "  </thead>\n",
       "  <tbody>\n",
       "    <tr>\n",
       "      <th>6gfi6GSjrhqc5xDLtDkVrTR61Hi7GMNPmJknxvbqzb1x</th>\n",
       "      <td>716453.28369</td>\n",
       "    </tr>\n",
       "    <tr>\n",
       "      <th>46NAjBDQZMQ3LW6kofZkYug2kLjDeiWW6ewUFAAMsB1S</th>\n",
       "      <td>238233.10635</td>\n",
       "    </tr>\n",
       "    <tr>\n",
       "      <th>CuieVDEDtLo7FypA9SbLM9saXFdb1dsshEkyErMqkRQq</th>\n",
       "      <td>233709.33493</td>\n",
       "    </tr>\n",
       "    <tr>\n",
       "      <th>9idZBJW3jbDRtmcVcxnXyimxuWWkWcek9DUobFkuu4tZ</th>\n",
       "      <td>91348.83646</td>\n",
       "    </tr>\n",
       "    <tr>\n",
       "      <th>3mrFdAXXbQnGZfZRU9iMjCEbegCynT1n28NhgwjDRCUH</th>\n",
       "      <td>73266.30276</td>\n",
       "    </tr>\n",
       "    <tr>\n",
       "      <th>3od67CDLn9567L28GckH9yU5FCiDhKN7aJzBryeKDKtE</th>\n",
       "      <td>54714.88829</td>\n",
       "    </tr>\n",
       "    <tr>\n",
       "      <th>GTKJLHSZmWdRG3ZyPhvF91g6p7mr1b3z62JdtF1TkCKQ</th>\n",
       "      <td>50000.00000</td>\n",
       "    </tr>\n",
       "    <tr>\n",
       "      <th>3zjr9qAMWzr5NEcKigZL4AfM2pjngWUSZhjwQcwtCmGb</th>\n",
       "      <td>46701.47726</td>\n",
       "    </tr>\n",
       "    <tr>\n",
       "      <th>B2zHBL2FfokYi1TXDtxjDWQHfp8K6156Kn8rrksew4Pp</th>\n",
       "      <td>46492.82913</td>\n",
       "    </tr>\n",
       "    <tr>\n",
       "      <th>8Qnp5yyLq6xPpegsEPcjYNQvqpzASx2Ar9EJhPNf5u38</th>\n",
       "      <td>43436.02154</td>\n",
       "    </tr>\n",
       "    <tr>\n",
       "      <th>3Yq3GZU3LD9DpnHEBXvxxAeVrmHMh6jcQuTJjbDTcarL</th>\n",
       "      <td>40989.99547</td>\n",
       "    </tr>\n",
       "    <tr>\n",
       "      <th>BsoqWxsJyS1RD3dv8btp41S8qHXUTGWJ7rhwegsYUzUz</th>\n",
       "      <td>35839.00427</td>\n",
       "    </tr>\n",
       "    <tr>\n",
       "      <th>FRnFVoakjCChVX5DSSfoyKtTqod36uQyB7deXqNB7XYG</th>\n",
       "      <td>34030.76783</td>\n",
       "    </tr>\n",
       "    <tr>\n",
       "      <th>4LFJZf7ovbT5uoUi5wSuioENcq6BiSnBde6n7f9ndgvi</th>\n",
       "      <td>28058.20650</td>\n",
       "    </tr>\n",
       "    <tr>\n",
       "      <th>F4QSYmsUKUqEfsBAqwCckJMNEZCCDsVehvdkub69NP2g</th>\n",
       "      <td>24270.30161</td>\n",
       "    </tr>\n",
       "    <tr>\n",
       "      <th>8eJUrzZnVgcrQVwYr48e9JqHZX6TRbE8WY4nzhBEmbW9</th>\n",
       "      <td>21876.48559</td>\n",
       "    </tr>\n",
       "    <tr>\n",
       "      <th>8YY5LrwE1dyUwohuusNNJbqEXg9vGdUFXTqyQu7gZ6vn</th>\n",
       "      <td>20850.00126</td>\n",
       "    </tr>\n",
       "    <tr>\n",
       "      <th>HGk3ME9qiEqeocCaMwEe5o8dRpBcHqwjKpYguvDdApXT</th>\n",
       "      <td>17863.01587</td>\n",
       "    </tr>\n",
       "    <tr>\n",
       "      <th>6JbzWULkyrs2HGqhkzf6HMm5kGh3nfvk1pKahCyakHAL</th>\n",
       "      <td>16047.68853</td>\n",
       "    </tr>\n",
       "    <tr>\n",
       "      <th>6sZtxX1RuUU682FyXBsvTmJ4rrjBotpjHqgd6JUyHE4s</th>\n",
       "      <td>15509.87734</td>\n",
       "    </tr>\n",
       "  </tbody>\n",
       "</table>\n",
       "</div>"
      ],
      "text/plain": [
       "                                              Staked FIDA-RAY LP amount\n",
       "publicKey                                                              \n",
       "6gfi6GSjrhqc5xDLtDkVrTR61Hi7GMNPmJknxvbqzb1x               716453.28369\n",
       "46NAjBDQZMQ3LW6kofZkYug2kLjDeiWW6ewUFAAMsB1S               238233.10635\n",
       "CuieVDEDtLo7FypA9SbLM9saXFdb1dsshEkyErMqkRQq               233709.33493\n",
       "9idZBJW3jbDRtmcVcxnXyimxuWWkWcek9DUobFkuu4tZ                91348.83646\n",
       "3mrFdAXXbQnGZfZRU9iMjCEbegCynT1n28NhgwjDRCUH                73266.30276\n",
       "3od67CDLn9567L28GckH9yU5FCiDhKN7aJzBryeKDKtE                54714.88829\n",
       "GTKJLHSZmWdRG3ZyPhvF91g6p7mr1b3z62JdtF1TkCKQ                50000.00000\n",
       "3zjr9qAMWzr5NEcKigZL4AfM2pjngWUSZhjwQcwtCmGb                46701.47726\n",
       "B2zHBL2FfokYi1TXDtxjDWQHfp8K6156Kn8rrksew4Pp                46492.82913\n",
       "8Qnp5yyLq6xPpegsEPcjYNQvqpzASx2Ar9EJhPNf5u38                43436.02154\n",
       "3Yq3GZU3LD9DpnHEBXvxxAeVrmHMh6jcQuTJjbDTcarL                40989.99547\n",
       "BsoqWxsJyS1RD3dv8btp41S8qHXUTGWJ7rhwegsYUzUz                35839.00427\n",
       "FRnFVoakjCChVX5DSSfoyKtTqod36uQyB7deXqNB7XYG                34030.76783\n",
       "4LFJZf7ovbT5uoUi5wSuioENcq6BiSnBde6n7f9ndgvi                28058.20650\n",
       "F4QSYmsUKUqEfsBAqwCckJMNEZCCDsVehvdkub69NP2g                24270.30161\n",
       "8eJUrzZnVgcrQVwYr48e9JqHZX6TRbE8WY4nzhBEmbW9                21876.48559\n",
       "8YY5LrwE1dyUwohuusNNJbqEXg9vGdUFXTqyQu7gZ6vn                20850.00126\n",
       "HGk3ME9qiEqeocCaMwEe5o8dRpBcHqwjKpYguvDdApXT                17863.01587\n",
       "6JbzWULkyrs2HGqhkzf6HMm5kGh3nfvk1pKahCyakHAL                16047.68853\n",
       "6sZtxX1RuUU682FyXBsvTmJ4rrjBotpjHqgd6JUyHE4s                15509.87734"
      ]
     },
     "execution_count": 12,
     "metadata": {},
     "output_type": "execute_result"
    }
   ],
   "source": [
    "fida_ray.nlargest(20, 'Staked FIDA-RAY LP amount')"
   ]
  },
  {
   "cell_type": "markdown",
   "id": "a4677206",
   "metadata": {},
   "source": [
    "## OXY-RAY"
   ]
  },
  {
   "cell_type": "code",
   "execution_count": 13,
   "id": "c0a6cbeb",
   "metadata": {},
   "outputs": [],
   "source": [
    "oxy_ray = fusion_pool_distros[1].set_index(\"publicKey\")"
   ]
  },
  {
   "cell_type": "code",
   "execution_count": 14,
   "id": "067aa43a",
   "metadata": {},
   "outputs": [
    {
     "data": {
      "text/html": [
       "<div>\n",
       "<style scoped>\n",
       "    .dataframe tbody tr th:only-of-type {\n",
       "        vertical-align: middle;\n",
       "    }\n",
       "\n",
       "    .dataframe tbody tr th {\n",
       "        vertical-align: top;\n",
       "    }\n",
       "\n",
       "    .dataframe thead th {\n",
       "        text-align: right;\n",
       "    }\n",
       "</style>\n",
       "<table border=\"1\" class=\"dataframe\">\n",
       "  <thead>\n",
       "    <tr style=\"text-align: right;\">\n",
       "      <th></th>\n",
       "      <th>Staked OXY-RAY LP amount</th>\n",
       "    </tr>\n",
       "  </thead>\n",
       "  <tbody>\n",
       "    <tr>\n",
       "      <th>count</th>\n",
       "      <td>1565.00000</td>\n",
       "    </tr>\n",
       "    <tr>\n",
       "      <th>mean</th>\n",
       "      <td>1777.34658</td>\n",
       "    </tr>\n",
       "    <tr>\n",
       "      <th>std</th>\n",
       "      <td>22610.23671</td>\n",
       "    </tr>\n",
       "    <tr>\n",
       "      <th>min</th>\n",
       "      <td>0.00051</td>\n",
       "    </tr>\n",
       "    <tr>\n",
       "      <th>25%</th>\n",
       "      <td>30.13341</td>\n",
       "    </tr>\n",
       "    <tr>\n",
       "      <th>50%</th>\n",
       "      <td>119.41031</td>\n",
       "    </tr>\n",
       "    <tr>\n",
       "      <th>75%</th>\n",
       "      <td>452.61998</td>\n",
       "    </tr>\n",
       "    <tr>\n",
       "      <th>max</th>\n",
       "      <td>835411.10882</td>\n",
       "    </tr>\n",
       "  </tbody>\n",
       "</table>\n",
       "</div>"
      ],
      "text/plain": [
       "       Staked OXY-RAY LP amount\n",
       "count                1565.00000\n",
       "mean                 1777.34658\n",
       "std                 22610.23671\n",
       "min                     0.00051\n",
       "25%                    30.13341\n",
       "50%                   119.41031\n",
       "75%                   452.61998\n",
       "max                835411.10882"
      ]
     },
     "execution_count": 14,
     "metadata": {},
     "output_type": "execute_result"
    }
   ],
   "source": [
    "oxy_ray.describe()"
   ]
  },
  {
   "cell_type": "code",
   "execution_count": 15,
   "id": "737f9f3c",
   "metadata": {},
   "outputs": [
    {
     "data": {
      "image/png": "[encoded data removed]",
      "text/plain": [
       "<Figure size 1080x720 with 1 Axes>"
      ]
     },
     "metadata": {
      "needs_background": "light"
     },
     "output_type": "display_data"
    }
   ],
   "source": [
    "plot_loghist(oxy_ray, 20, \"OXY-RAY\", number_offset=3)"
   ]
  },
  {
   "cell_type": "markdown",
   "id": "39085054",
   "metadata": {},
   "source": [
    "### Top 20 OXY-RAY Fusion Pool Whales "
   ]
  },
  {
   "cell_type": "code",
   "execution_count": 16,
   "id": "58ff6836",
   "metadata": {},
   "outputs": [
    {
     "data": {
      "text/html": [
       "<div>\n",
       "<style scoped>\n",
       "    .dataframe tbody tr th:only-of-type {\n",
       "        vertical-align: middle;\n",
       "    }\n",
       "\n",
       "    .dataframe tbody tr th {\n",
       "        vertical-align: top;\n",
       "    }\n",
       "\n",
       "    .dataframe thead th {\n",
       "        text-align: right;\n",
       "    }\n",
       "</style>\n",
       "<table border=\"1\" class=\"dataframe\">\n",
       "  <thead>\n",
       "    <tr style=\"text-align: right;\">\n",
       "      <th></th>\n",
       "      <th>Staked OXY-RAY LP amount</th>\n",
       "    </tr>\n",
       "    <tr>\n",
       "      <th>publicKey</th>\n",
       "      <th></th>\n",
       "    </tr>\n",
       "  </thead>\n",
       "  <tbody>\n",
       "    <tr>\n",
       "      <th>6gfi6GSjrhqc5xDLtDkVrTR61Hi7GMNPmJknxvbqzb1x</th>\n",
       "      <td>835411.10882</td>\n",
       "    </tr>\n",
       "    <tr>\n",
       "      <th>46NAjBDQZMQ3LW6kofZkYug2kLjDeiWW6ewUFAAMsB1S</th>\n",
       "      <td>221895.11700</td>\n",
       "    </tr>\n",
       "    <tr>\n",
       "      <th>7SwnMLiu6r3JkZdCysq6g7aafgXFEQX7JTPK3aMUT8Gu</th>\n",
       "      <td>156972.87654</td>\n",
       "    </tr>\n",
       "    <tr>\n",
       "      <th>9tBhvGNV65AdZbZpB37duEFCAp4ke5Yo2wDFEqU5fkx4</th>\n",
       "      <td>76111.70670</td>\n",
       "    </tr>\n",
       "    <tr>\n",
       "      <th>4Y5hNnrMA9rSiNmV47DUTELWYdufvLi6L9ggbv8hrUFX</th>\n",
       "      <td>71011.07365</td>\n",
       "    </tr>\n",
       "    <tr>\n",
       "      <th>6jQ5Z5nuXvfrtEwqUqkmiEdw3ZQVWwjXpxa6ZAxzrDHn</th>\n",
       "      <td>62451.81735</td>\n",
       "    </tr>\n",
       "    <tr>\n",
       "      <th>76dwZ9F19uYE3wwF5NTc5GbuR6M5LwcEABA2k3gbgWoo</th>\n",
       "      <td>54357.71398</td>\n",
       "    </tr>\n",
       "    <tr>\n",
       "      <th>8Q7kYx1kkzBJ739J6KhLVznPixgYGJkB7NvtqZuMj6Qt</th>\n",
       "      <td>37097.77521</td>\n",
       "    </tr>\n",
       "    <tr>\n",
       "      <th>3TeswEr9LmLK1vbh1wpaMoz8oGTPhkZeCxCjT19YHGvC</th>\n",
       "      <td>35307.51981</td>\n",
       "    </tr>\n",
       "    <tr>\n",
       "      <th>3LzxqNjETfYSLy7guHnnKy8gQYue5CSmPfyaTCGgfAuS</th>\n",
       "      <td>33353.47487</td>\n",
       "    </tr>\n",
       "    <tr>\n",
       "      <th>GTKJLHSZmWdRG3ZyPhvF91g6p7mr1b3z62JdtF1TkCKQ</th>\n",
       "      <td>28016.36954</td>\n",
       "    </tr>\n",
       "    <tr>\n",
       "      <th>HQSowzct2ktAtPThqKMC3YfZ61VEbrhXPXuevKBsNiq8</th>\n",
       "      <td>27993.28250</td>\n",
       "    </tr>\n",
       "    <tr>\n",
       "      <th>EFU5WpbVyuQm1NgurcderDGUivPsuREadxA3CBVwQnQJ</th>\n",
       "      <td>27406.30435</td>\n",
       "    </tr>\n",
       "    <tr>\n",
       "      <th>2T5tJCFsChSYnCcHn4QXGoCLWu6Lu3vxw9xox26B6CgW</th>\n",
       "      <td>26580.11067</td>\n",
       "    </tr>\n",
       "    <tr>\n",
       "      <th>HGruJTZAX7Sy9tFncW5nMzuWTzSAjDpu5YXoJkDgRCyu</th>\n",
       "      <td>26262.35110</td>\n",
       "    </tr>\n",
       "    <tr>\n",
       "      <th>3od67CDLn9567L28GckH9yU5FCiDhKN7aJzBryeKDKtE</th>\n",
       "      <td>25633.35793</td>\n",
       "    </tr>\n",
       "    <tr>\n",
       "      <th>HGdxLz3Sb2F5gULKh6a6HRgmYLcByUToyQZKuMMYWHqc</th>\n",
       "      <td>24383.00299</td>\n",
       "    </tr>\n",
       "    <tr>\n",
       "      <th>G3YpYsexKbYNCbVdufR2LMcc6v12zPLtHAk51yG9GcEv</th>\n",
       "      <td>24342.71847</td>\n",
       "    </tr>\n",
       "    <tr>\n",
       "      <th>HuQ2y4MM4NBFbKVNmqU1GV4HiuzWgJR8ZqJAkbzKxZPT</th>\n",
       "      <td>21040.94192</td>\n",
       "    </tr>\n",
       "    <tr>\n",
       "      <th>WspDcfuktaGtC7q12qnUmcHoGxgxXc8X7EKs7D5qWKw</th>\n",
       "      <td>19720.91881</td>\n",
       "    </tr>\n",
       "  </tbody>\n",
       "</table>\n",
       "</div>"
      ],
      "text/plain": [
       "                                              Staked OXY-RAY LP amount\n",
       "publicKey                                                             \n",
       "6gfi6GSjrhqc5xDLtDkVrTR61Hi7GMNPmJknxvbqzb1x              835411.10882\n",
       "46NAjBDQZMQ3LW6kofZkYug2kLjDeiWW6ewUFAAMsB1S              221895.11700\n",
       "7SwnMLiu6r3JkZdCysq6g7aafgXFEQX7JTPK3aMUT8Gu              156972.87654\n",
       "9tBhvGNV65AdZbZpB37duEFCAp4ke5Yo2wDFEqU5fkx4               76111.70670\n",
       "4Y5hNnrMA9rSiNmV47DUTELWYdufvLi6L9ggbv8hrUFX               71011.07365\n",
       "6jQ5Z5nuXvfrtEwqUqkmiEdw3ZQVWwjXpxa6ZAxzrDHn               62451.81735\n",
       "76dwZ9F19uYE3wwF5NTc5GbuR6M5LwcEABA2k3gbgWoo               54357.71398\n",
       "8Q7kYx1kkzBJ739J6KhLVznPixgYGJkB7NvtqZuMj6Qt               37097.77521\n",
       "3TeswEr9LmLK1vbh1wpaMoz8oGTPhkZeCxCjT19YHGvC               35307.51981\n",
       "3LzxqNjETfYSLy7guHnnKy8gQYue5CSmPfyaTCGgfAuS               33353.47487\n",
       "GTKJLHSZmWdRG3ZyPhvF91g6p7mr1b3z62JdtF1TkCKQ               28016.36954\n",
       "HQSowzct2ktAtPThqKMC3YfZ61VEbrhXPXuevKBsNiq8               27993.28250\n",
       "EFU5WpbVyuQm1NgurcderDGUivPsuREadxA3CBVwQnQJ               27406.30435\n",
       "2T5tJCFsChSYnCcHn4QXGoCLWu6Lu3vxw9xox26B6CgW               26580.11067\n",
       "HGruJTZAX7Sy9tFncW5nMzuWTzSAjDpu5YXoJkDgRCyu               26262.35110\n",
       "3od67CDLn9567L28GckH9yU5FCiDhKN7aJzBryeKDKtE               25633.35793\n",
       "HGdxLz3Sb2F5gULKh6a6HRgmYLcByUToyQZKuMMYWHqc               24383.00299\n",
       "G3YpYsexKbYNCbVdufR2LMcc6v12zPLtHAk51yG9GcEv               24342.71847\n",
       "HuQ2y4MM4NBFbKVNmqU1GV4HiuzWgJR8ZqJAkbzKxZPT               21040.94192\n",
       "WspDcfuktaGtC7q12qnUmcHoGxgxXc8X7EKs7D5qWKw                19720.91881"
      ]
     },
     "execution_count": 16,
     "metadata": {},
     "output_type": "execute_result"
    }
   ],
   "source": [
    "oxy_ray.nlargest(20, 'Staked OXY-RAY LP amount')"
   ]
  },
  {
   "cell_type": "markdown",
   "id": "2a8d76f3",
   "metadata": {},
   "source": [
    "## MAPS-RAY"
   ]
  },
  {
   "cell_type": "code",
   "execution_count": 17,
   "id": "f2dbdca3",
   "metadata": {},
   "outputs": [],
   "source": [
    "maps_ray = fusion_pool_distros[2].set_index(\"publicKey\")"
   ]
  },
  {
   "cell_type": "code",
   "execution_count": 18,
   "id": "a2b9cb3b",
   "metadata": {},
   "outputs": [
    {
     "data": {
      "text/html": [
       "<div>\n",
       "<style scoped>\n",
       "    .dataframe tbody tr th:only-of-type {\n",
       "        vertical-align: middle;\n",
       "    }\n",
       "\n",
       "    .dataframe tbody tr th {\n",
       "        vertical-align: top;\n",
       "    }\n",
       "\n",
       "    .dataframe thead th {\n",
       "        text-align: right;\n",
       "    }\n",
       "</style>\n",
       "<table border=\"1\" class=\"dataframe\">\n",
       "  <thead>\n",
       "    <tr style=\"text-align: right;\">\n",
       "      <th></th>\n",
       "      <th>Staked MAPS-RAY LP amount</th>\n",
       "    </tr>\n",
       "  </thead>\n",
       "  <tbody>\n",
       "    <tr>\n",
       "      <th>count</th>\n",
       "      <td>858.00000</td>\n",
       "    </tr>\n",
       "    <tr>\n",
       "      <th>mean</th>\n",
       "      <td>157.47296</td>\n",
       "    </tr>\n",
       "    <tr>\n",
       "      <th>std</th>\n",
       "      <td>1460.41075</td>\n",
       "    </tr>\n",
       "    <tr>\n",
       "      <th>min</th>\n",
       "      <td>0.00000</td>\n",
       "    </tr>\n",
       "    <tr>\n",
       "      <th>25%</th>\n",
       "      <td>2.83613</td>\n",
       "    </tr>\n",
       "    <tr>\n",
       "      <th>50%</th>\n",
       "      <td>12.19284</td>\n",
       "    </tr>\n",
       "    <tr>\n",
       "      <th>75%</th>\n",
       "      <td>52.77471</td>\n",
       "    </tr>\n",
       "    <tr>\n",
       "      <th>max</th>\n",
       "      <td>38143.68844</td>\n",
       "    </tr>\n",
       "  </tbody>\n",
       "</table>\n",
       "</div>"
      ],
      "text/plain": [
       "       Staked MAPS-RAY LP amount\n",
       "count                  858.00000\n",
       "mean                   157.47296\n",
       "std                   1460.41075\n",
       "min                      0.00000\n",
       "25%                      2.83613\n",
       "50%                     12.19284\n",
       "75%                     52.77471\n",
       "max                  38143.68844"
      ]
     },
     "execution_count": 18,
     "metadata": {},
     "output_type": "execute_result"
    }
   ],
   "source": [
    "maps_ray.describe()"
   ]
  },
  {
   "cell_type": "code",
   "execution_count": 19,
   "id": "01a710cc",
   "metadata": {},
   "outputs": [
    {
     "data": {
      "image/png": "[encoded data removed]",
      "text/plain": [
       "<Figure size 1080x720 with 1 Axes>"
      ]
     },
     "metadata": {
      "needs_background": "light"
     },
     "output_type": "display_data"
    }
   ],
   "source": [
    "plot_loghist(maps_ray, 20, \"MAPS-RAY\", number_offset=3)"
   ]
  },
  {
   "cell_type": "markdown",
   "id": "29d870d0",
   "metadata": {},
   "source": [
    "### Top 20 MAPS-RAY Fusion Pool Whales"
   ]
  },
  {
   "cell_type": "code",
   "execution_count": 20,
   "id": "f5eac8ea",
   "metadata": {},
   "outputs": [
    {
     "data": {
      "text/html": [
       "<div>\n",
       "<style scoped>\n",
       "    .dataframe tbody tr th:only-of-type {\n",
       "        vertical-align: middle;\n",
       "    }\n",
       "\n",
       "    .dataframe tbody tr th {\n",
       "        vertical-align: top;\n",
       "    }\n",
       "\n",
       "    .dataframe thead th {\n",
       "        text-align: right;\n",
       "    }\n",
       "</style>\n",
       "<table border=\"1\" class=\"dataframe\">\n",
       "  <thead>\n",
       "    <tr style=\"text-align: right;\">\n",
       "      <th></th>\n",
       "      <th>Staked MAPS-RAY LP amount</th>\n",
       "    </tr>\n",
       "    <tr>\n",
       "      <th>publicKey</th>\n",
       "      <th></th>\n",
       "    </tr>\n",
       "  </thead>\n",
       "  <tbody>\n",
       "    <tr>\n",
       "      <th>6gfi6GSjrhqc5xDLtDkVrTR61Hi7GMNPmJknxvbqzb1x</th>\n",
       "      <td>38143.68844</td>\n",
       "    </tr>\n",
       "    <tr>\n",
       "      <th>81isTzQuNaa6J1TBCjkUYWzShiPYiyxfykytgUa6byKF</th>\n",
       "      <td>15763.13194</td>\n",
       "    </tr>\n",
       "    <tr>\n",
       "      <th>HXnKkgvz4z3KGFn78W5D9GDqUuTnKwbE5Ty4xr1EvMFP</th>\n",
       "      <td>7008.54294</td>\n",
       "    </tr>\n",
       "    <tr>\n",
       "      <th>9idZBJW3jbDRtmcVcxnXyimxuWWkWcek9DUobFkuu4tZ</th>\n",
       "      <td>5209.50034</td>\n",
       "    </tr>\n",
       "    <tr>\n",
       "      <th>3mrFdAXXbQnGZfZRU9iMjCEbegCynT1n28NhgwjDRCUH</th>\n",
       "      <td>4900.74249</td>\n",
       "    </tr>\n",
       "    <tr>\n",
       "      <th>8cZ9oKLV5DHMr1x5uM16eszLSz3cC81qwJoDPZoaebGf</th>\n",
       "      <td>2742.48808</td>\n",
       "    </tr>\n",
       "    <tr>\n",
       "      <th>DSKqiUo59opf8XvbN9FqkFMVE31CaQNjd8hNM7TE1ra9</th>\n",
       "      <td>2056.62902</td>\n",
       "    </tr>\n",
       "    <tr>\n",
       "      <th>56kGnD4FhM6uB1m1cZmNaaAxAiRJJTrYWCunCYANQkW1</th>\n",
       "      <td>1998.97394</td>\n",
       "    </tr>\n",
       "    <tr>\n",
       "      <th>GpWvytg9NGJeQkuR3vYGipjmBD2o8tNme5EgypU8gnAX</th>\n",
       "      <td>1714.08310</td>\n",
       "    </tr>\n",
       "    <tr>\n",
       "      <th>4LFJZf7ovbT5uoUi5wSuioENcq6BiSnBde6n7f9ndgvi</th>\n",
       "      <td>1643.78068</td>\n",
       "    </tr>\n",
       "    <tr>\n",
       "      <th>9A2sfa3yLKzMmcUnTAY9NvU2k64BJzJ6V7UvsvpABpve</th>\n",
       "      <td>1515.94318</td>\n",
       "    </tr>\n",
       "    <tr>\n",
       "      <th>3Yq3GZU3LD9DpnHEBXvxxAeVrmHMh6jcQuTJjbDTcarL</th>\n",
       "      <td>1487.17418</td>\n",
       "    </tr>\n",
       "    <tr>\n",
       "      <th>Ffi1HaWUZipwqcD9hsCh5HA8aoxPQCFtQuGReTUe5G6X</th>\n",
       "      <td>1411.24765</td>\n",
       "    </tr>\n",
       "    <tr>\n",
       "      <th>EFSK8BUpND7hKD1XZvkH1fdX98rwbepqaTyHiBr1nz8L</th>\n",
       "      <td>1376.97215</td>\n",
       "    </tr>\n",
       "    <tr>\n",
       "      <th>FeRA34XxXXthQ2xQRvh38JSXvpuMA1xMcN1tpRgcfEhk</th>\n",
       "      <td>1370.50926</td>\n",
       "    </tr>\n",
       "    <tr>\n",
       "      <th>6Jua1viPW8NFB1MLxeV7JLKwAyC7xeFGQxmYVy8k3yFP</th>\n",
       "      <td>963.51614</td>\n",
       "    </tr>\n",
       "    <tr>\n",
       "      <th>Cf7WCxmDY8hZuTEyv2nGeENTkCeFsW1MeTfmYhtyKzbe</th>\n",
       "      <td>857.52845</td>\n",
       "    </tr>\n",
       "    <tr>\n",
       "      <th>HhQDueo6NASq2ReJmF5LXq5j6M65zPFnxRy7zYVMCMgW</th>\n",
       "      <td>851.20767</td>\n",
       "    </tr>\n",
       "    <tr>\n",
       "      <th>Emr7NTkjQ6yuUa3AuwYL3zrhEWwUVsKTjNZoLFUDJraQ</th>\n",
       "      <td>775.27198</td>\n",
       "    </tr>\n",
       "    <tr>\n",
       "      <th>FLhUykjAGeANs5PpbzoQstT7AEJMWxFbYEtq68tB5iwf</th>\n",
       "      <td>773.10083</td>\n",
       "    </tr>\n",
       "  </tbody>\n",
       "</table>\n",
       "</div>"
      ],
      "text/plain": [
       "                                              Staked MAPS-RAY LP amount\n",
       "publicKey                                                              \n",
       "6gfi6GSjrhqc5xDLtDkVrTR61Hi7GMNPmJknxvbqzb1x                38143.68844\n",
       "81isTzQuNaa6J1TBCjkUYWzShiPYiyxfykytgUa6byKF                15763.13194\n",
       "HXnKkgvz4z3KGFn78W5D9GDqUuTnKwbE5Ty4xr1EvMFP                 7008.54294\n",
       "9idZBJW3jbDRtmcVcxnXyimxuWWkWcek9DUobFkuu4tZ                 5209.50034\n",
       "3mrFdAXXbQnGZfZRU9iMjCEbegCynT1n28NhgwjDRCUH                 4900.74249\n",
       "8cZ9oKLV5DHMr1x5uM16eszLSz3cC81qwJoDPZoaebGf                 2742.48808\n",
       "DSKqiUo59opf8XvbN9FqkFMVE31CaQNjd8hNM7TE1ra9                 2056.62902\n",
       "56kGnD4FhM6uB1m1cZmNaaAxAiRJJTrYWCunCYANQkW1                 1998.97394\n",
       "GpWvytg9NGJeQkuR3vYGipjmBD2o8tNme5EgypU8gnAX                 1714.08310\n",
       "4LFJZf7ovbT5uoUi5wSuioENcq6BiSnBde6n7f9ndgvi                 1643.78068\n",
       "9A2sfa3yLKzMmcUnTAY9NvU2k64BJzJ6V7UvsvpABpve                 1515.94318\n",
       "3Yq3GZU3LD9DpnHEBXvxxAeVrmHMh6jcQuTJjbDTcarL                 1487.17418\n",
       "Ffi1HaWUZipwqcD9hsCh5HA8aoxPQCFtQuGReTUe5G6X                 1411.24765\n",
       "EFSK8BUpND7hKD1XZvkH1fdX98rwbepqaTyHiBr1nz8L                 1376.97215\n",
       "FeRA34XxXXthQ2xQRvh38JSXvpuMA1xMcN1tpRgcfEhk                 1370.50926\n",
       "6Jua1viPW8NFB1MLxeV7JLKwAyC7xeFGQxmYVy8k3yFP                  963.51614\n",
       "Cf7WCxmDY8hZuTEyv2nGeENTkCeFsW1MeTfmYhtyKzbe                  857.52845\n",
       "HhQDueo6NASq2ReJmF5LXq5j6M65zPFnxRy7zYVMCMgW                  851.20767\n",
       "Emr7NTkjQ6yuUa3AuwYL3zrhEWwUVsKTjNZoLFUDJraQ                  775.27198\n",
       "FLhUykjAGeANs5PpbzoQstT7AEJMWxFbYEtq68tB5iwf                  773.10083"
      ]
     },
     "execution_count": 20,
     "metadata": {},
     "output_type": "execute_result"
    }
   ],
   "source": [
    "maps_ray.nlargest(20, 'Staked MAPS-RAY LP amount')"
   ]
  },
  {
   "cell_type": "markdown",
   "id": "956a4615",
   "metadata": {},
   "source": [
    "## KIN-RAY "
   ]
  },
  {
   "cell_type": "code",
   "execution_count": 21,
   "id": "c1e0bd0d",
   "metadata": {},
   "outputs": [],
   "source": [
    "kin_ray = fusion_pool_distros[3].set_index(\"publicKey\")"
   ]
  },
  {
   "cell_type": "code",
   "execution_count": 22,
   "id": "023a5774",
   "metadata": {},
   "outputs": [
    {
     "data": {
      "text/html": [
       "<div>\n",
       "<style scoped>\n",
       "    .dataframe tbody tr th:only-of-type {\n",
       "        vertical-align: middle;\n",
       "    }\n",
       "\n",
       "    .dataframe tbody tr th {\n",
       "        vertical-align: top;\n",
       "    }\n",
       "\n",
       "    .dataframe thead th {\n",
       "        text-align: right;\n",
       "    }\n",
       "</style>\n",
       "<table border=\"1\" class=\"dataframe\">\n",
       "  <thead>\n",
       "    <tr style=\"text-align: right;\">\n",
       "      <th></th>\n",
       "      <th>Staked KIN-RAY LP amount</th>\n",
       "    </tr>\n",
       "  </thead>\n",
       "  <tbody>\n",
       "    <tr>\n",
       "      <th>count</th>\n",
       "      <td>1451.00000</td>\n",
       "    </tr>\n",
       "    <tr>\n",
       "      <th>mean</th>\n",
       "      <td>2446183.59413</td>\n",
       "    </tr>\n",
       "    <tr>\n",
       "      <th>std</th>\n",
       "      <td>19748683.44287</td>\n",
       "    </tr>\n",
       "    <tr>\n",
       "      <th>min</th>\n",
       "      <td>0.00005</td>\n",
       "    </tr>\n",
       "    <tr>\n",
       "      <th>25%</th>\n",
       "      <td>31308.65384</td>\n",
       "    </tr>\n",
       "    <tr>\n",
       "      <th>50%</th>\n",
       "      <td>159093.12118</td>\n",
       "    </tr>\n",
       "    <tr>\n",
       "      <th>75%</th>\n",
       "      <td>796022.70661</td>\n",
       "    </tr>\n",
       "    <tr>\n",
       "      <th>max</th>\n",
       "      <td>678744530.76657</td>\n",
       "    </tr>\n",
       "  </tbody>\n",
       "</table>\n",
       "</div>"
      ],
      "text/plain": [
       "       Staked KIN-RAY LP amount\n",
       "count                1451.00000\n",
       "mean              2446183.59413\n",
       "std              19748683.44287\n",
       "min                     0.00005\n",
       "25%                 31308.65384\n",
       "50%                159093.12118\n",
       "75%                796022.70661\n",
       "max             678744530.76657"
      ]
     },
     "execution_count": 22,
     "metadata": {},
     "output_type": "execute_result"
    }
   ],
   "source": [
    "kin_ray.describe()"
   ]
  },
  {
   "cell_type": "code",
   "execution_count": 23,
   "id": "234d6c6d",
   "metadata": {},
   "outputs": [
    {
     "data": {
      "image/png": "[encoded data removed]",
      "text/plain": [
       "<Figure size 1080x720 with 1 Axes>"
      ]
     },
     "metadata": {
      "needs_background": "light"
     },
     "output_type": "display_data"
    }
   ],
   "source": [
    "plot_loghist(kin_ray, 20, \"KIN-RAY\", number_offset=3)"
   ]
  },
  {
   "cell_type": "markdown",
   "id": "40bdccc9",
   "metadata": {},
   "source": [
    "### Top 20 KIN-RAY Fusion Pool Whales"
   ]
  },
  {
   "cell_type": "code",
   "execution_count": 24,
   "id": "7c8b4874",
   "metadata": {},
   "outputs": [
    {
     "data": {
      "text/html": [
       "<div>\n",
       "<style scoped>\n",
       "    .dataframe tbody tr th:only-of-type {\n",
       "        vertical-align: middle;\n",
       "    }\n",
       "\n",
       "    .dataframe tbody tr th {\n",
       "        vertical-align: top;\n",
       "    }\n",
       "\n",
       "    .dataframe thead th {\n",
       "        text-align: right;\n",
       "    }\n",
       "</style>\n",
       "<table border=\"1\" class=\"dataframe\">\n",
       "  <thead>\n",
       "    <tr style=\"text-align: right;\">\n",
       "      <th></th>\n",
       "      <th>Staked KIN-RAY LP amount</th>\n",
       "    </tr>\n",
       "    <tr>\n",
       "      <th>publicKey</th>\n",
       "      <th></th>\n",
       "    </tr>\n",
       "  </thead>\n",
       "  <tbody>\n",
       "    <tr>\n",
       "      <th>CuieVDEDtLo7FypA9SbLM9saXFdb1dsshEkyErMqkRQq</th>\n",
       "      <td>678744530.76657</td>\n",
       "    </tr>\n",
       "    <tr>\n",
       "      <th>9idZBJW3jbDRtmcVcxnXyimxuWWkWcek9DUobFkuu4tZ</th>\n",
       "      <td>160249778.87891</td>\n",
       "    </tr>\n",
       "    <tr>\n",
       "      <th>5kTdBm4HZhdMfw15o3rVgespHZaSGk8denxuqCNhvZpt</th>\n",
       "      <td>126407438.33361</td>\n",
       "    </tr>\n",
       "    <tr>\n",
       "      <th>6utCxJyCacQYR1pRHM1nVUKJdk3U5pfGnYQcXJvxAAHB</th>\n",
       "      <td>100000000.00000</td>\n",
       "    </tr>\n",
       "    <tr>\n",
       "      <th>9TU7vknCNixuw3PkfikUwMZXU9D8HKKnE1jfaLQCBQT9</th>\n",
       "      <td>93185733.67490</td>\n",
       "    </tr>\n",
       "    <tr>\n",
       "      <th>6htNnfgztL6F1hrccMM467xwXacuBHKx9hap1BVPky1f</th>\n",
       "      <td>70354400.38308</td>\n",
       "    </tr>\n",
       "    <tr>\n",
       "      <th>9iZhY3Z1754WAgBkZRCsRq5hHyjRp1CCiMkHjbJKt6h6</th>\n",
       "      <td>67390711.65122</td>\n",
       "    </tr>\n",
       "    <tr>\n",
       "      <th>CsRsYZpEFbK2ZMsySKpAR5g6kEqSXBiXb4XvzeaVuCJ3</th>\n",
       "      <td>65008954.98368</td>\n",
       "    </tr>\n",
       "    <tr>\n",
       "      <th>5zyak6GmMjK2C5gno6F2jSRWpjMzSWfiYU2zFTL5vJGV</th>\n",
       "      <td>54460543.43007</td>\n",
       "    </tr>\n",
       "    <tr>\n",
       "      <th>H7q8zE2gXsWqraa6UCCLCk31zpFwjigMxBfxNDz3gW6c</th>\n",
       "      <td>54034580.51428</td>\n",
       "    </tr>\n",
       "    <tr>\n",
       "      <th>5KKTVHRshTPjPVM9yRnpC1dkRJgCGBCevp9pS8thCQjT</th>\n",
       "      <td>50000000.00000</td>\n",
       "    </tr>\n",
       "    <tr>\n",
       "      <th>D7xmB6ffbqrBMnxUWfCGBwj69SBEd9t3q3ezRbDpjaS6</th>\n",
       "      <td>48461189.27316</td>\n",
       "    </tr>\n",
       "    <tr>\n",
       "      <th>4WDxyRFPraa1NwLrYweLSWTfNBDBRTWYhkv3NhZAeagA</th>\n",
       "      <td>44931007.92844</td>\n",
       "    </tr>\n",
       "    <tr>\n",
       "      <th>2gbfaE3oK6F7TrZTPWjwn3SjXtRBZ16QpTor42QLjvy1</th>\n",
       "      <td>41556439.18421</td>\n",
       "    </tr>\n",
       "    <tr>\n",
       "      <th>E652c2cqwmRVMoMyNXWMZvMk152pYa2XJ39Ftb9TkF9Y</th>\n",
       "      <td>38354795.68613</td>\n",
       "    </tr>\n",
       "    <tr>\n",
       "      <th>EH5sUi7d1pZewsdiucm2CmEddgK8GmUVS1vA55s58Hkw</th>\n",
       "      <td>38151145.65834</td>\n",
       "    </tr>\n",
       "    <tr>\n",
       "      <th>GTKJLHSZmWdRG3ZyPhvF91g6p7mr1b3z62JdtF1TkCKQ</th>\n",
       "      <td>35133838.73307</td>\n",
       "    </tr>\n",
       "    <tr>\n",
       "      <th>Bm1G78ozsYdpTWJ4puGR4VgqmUc8tpxBxx1QgiUaSQKZ</th>\n",
       "      <td>32400298.92553</td>\n",
       "    </tr>\n",
       "    <tr>\n",
       "      <th>7T1doE9LPh9DpKdu3Jupg1kE5WzceVNVq3iey19rAb53</th>\n",
       "      <td>32337368.03782</td>\n",
       "    </tr>\n",
       "    <tr>\n",
       "      <th>acN4EpL88c8Y9iSXV65SB2kgcTSE6LY1Tm8gtuuRBXz</th>\n",
       "      <td>29897699.99978</td>\n",
       "    </tr>\n",
       "  </tbody>\n",
       "</table>\n",
       "</div>"
      ],
      "text/plain": [
       "                                              Staked KIN-RAY LP amount\n",
       "publicKey                                                             \n",
       "CuieVDEDtLo7FypA9SbLM9saXFdb1dsshEkyErMqkRQq           678744530.76657\n",
       "9idZBJW3jbDRtmcVcxnXyimxuWWkWcek9DUobFkuu4tZ           160249778.87891\n",
       "5kTdBm4HZhdMfw15o3rVgespHZaSGk8denxuqCNhvZpt           126407438.33361\n",
       "6utCxJyCacQYR1pRHM1nVUKJdk3U5pfGnYQcXJvxAAHB           100000000.00000\n",
       "9TU7vknCNixuw3PkfikUwMZXU9D8HKKnE1jfaLQCBQT9            93185733.67490\n",
       "6htNnfgztL6F1hrccMM467xwXacuBHKx9hap1BVPky1f            70354400.38308\n",
       "9iZhY3Z1754WAgBkZRCsRq5hHyjRp1CCiMkHjbJKt6h6            67390711.65122\n",
       "CsRsYZpEFbK2ZMsySKpAR5g6kEqSXBiXb4XvzeaVuCJ3            65008954.98368\n",
       "5zyak6GmMjK2C5gno6F2jSRWpjMzSWfiYU2zFTL5vJGV            54460543.43007\n",
       "H7q8zE2gXsWqraa6UCCLCk31zpFwjigMxBfxNDz3gW6c            54034580.51428\n",
       "5KKTVHRshTPjPVM9yRnpC1dkRJgCGBCevp9pS8thCQjT            50000000.00000\n",
       "D7xmB6ffbqrBMnxUWfCGBwj69SBEd9t3q3ezRbDpjaS6            48461189.27316\n",
       "4WDxyRFPraa1NwLrYweLSWTfNBDBRTWYhkv3NhZAeagA            44931007.92844\n",
       "2gbfaE3oK6F7TrZTPWjwn3SjXtRBZ16QpTor42QLjvy1            41556439.18421\n",
       "E652c2cqwmRVMoMyNXWMZvMk152pYa2XJ39Ftb9TkF9Y            38354795.68613\n",
       "EH5sUi7d1pZewsdiucm2CmEddgK8GmUVS1vA55s58Hkw            38151145.65834\n",
       "GTKJLHSZmWdRG3ZyPhvF91g6p7mr1b3z62JdtF1TkCKQ            35133838.73307\n",
       "Bm1G78ozsYdpTWJ4puGR4VgqmUc8tpxBxx1QgiUaSQKZ            32400298.92553\n",
       "7T1doE9LPh9DpKdu3Jupg1kE5WzceVNVq3iey19rAb53            32337368.03782\n",
       "acN4EpL88c8Y9iSXV65SB2kgcTSE6LY1Tm8gtuuRBXz             29897699.99978"
      ]
     },
     "execution_count": 24,
     "metadata": {},
     "output_type": "execute_result"
    }
   ],
   "source": [
    "kin_ray.nlargest(20, 'Staked KIN-RAY LP amount')"
   ]
  },
  {
   "cell_type": "markdown",
   "id": "f75d52de",
   "metadata": {},
   "source": [
    "## COPE-USDC"
   ]
  },
  {
   "cell_type": "code",
   "execution_count": 25,
   "id": "f7f6747b",
   "metadata": {},
   "outputs": [],
   "source": [
    "cope_usdc = fusion_pool_distros[4].set_index(\"publicKey\")"
   ]
  },
  {
   "cell_type": "code",
   "execution_count": 26,
   "id": "b9a09abb",
   "metadata": {},
   "outputs": [
    {
     "data": {
      "text/html": [
       "<div>\n",
       "<style scoped>\n",
       "    .dataframe tbody tr th:only-of-type {\n",
       "        vertical-align: middle;\n",
       "    }\n",
       "\n",
       "    .dataframe tbody tr th {\n",
       "        vertical-align: top;\n",
       "    }\n",
       "\n",
       "    .dataframe thead th {\n",
       "        text-align: right;\n",
       "    }\n",
       "</style>\n",
       "<table border=\"1\" class=\"dataframe\">\n",
       "  <thead>\n",
       "    <tr style=\"text-align: right;\">\n",
       "      <th></th>\n",
       "      <th>Staked COPE-USDC LP amount</th>\n",
       "    </tr>\n",
       "  </thead>\n",
       "  <tbody>\n",
       "    <tr>\n",
       "      <th>count</th>\n",
       "      <td>4156.00000</td>\n",
       "    </tr>\n",
       "    <tr>\n",
       "      <th>mean</th>\n",
       "      <td>3737.81304</td>\n",
       "    </tr>\n",
       "    <tr>\n",
       "      <th>std</th>\n",
       "      <td>37552.08191</td>\n",
       "    </tr>\n",
       "    <tr>\n",
       "      <th>min</th>\n",
       "      <td>1.00000</td>\n",
       "    </tr>\n",
       "    <tr>\n",
       "      <th>25%</th>\n",
       "      <td>182.00000</td>\n",
       "    </tr>\n",
       "    <tr>\n",
       "      <th>50%</th>\n",
       "      <td>540.50000</td>\n",
       "    </tr>\n",
       "    <tr>\n",
       "      <th>75%</th>\n",
       "      <td>1831.50000</td>\n",
       "    </tr>\n",
       "    <tr>\n",
       "      <th>max</th>\n",
       "      <td>1881359.00000</td>\n",
       "    </tr>\n",
       "  </tbody>\n",
       "</table>\n",
       "</div>"
      ],
      "text/plain": [
       "       Staked COPE-USDC LP amount\n",
       "count                  4156.00000\n",
       "mean                   3737.81304\n",
       "std                   37552.08191\n",
       "min                       1.00000\n",
       "25%                     182.00000\n",
       "50%                     540.50000\n",
       "75%                    1831.50000\n",
       "max                 1881359.00000"
      ]
     },
     "execution_count": 26,
     "metadata": {},
     "output_type": "execute_result"
    }
   ],
   "source": [
    "cope_usdc.describe()"
   ]
  },
  {
   "cell_type": "code",
   "execution_count": 27,
   "id": "abdd0f8a",
   "metadata": {},
   "outputs": [
    {
     "data": {
      "image/png": "[encoded data removed]",
      "text/plain": [
       "<Figure size 1080x720 with 1 Axes>"
      ]
     },
     "metadata": {
      "needs_background": "light"
     },
     "output_type": "display_data"
    }
   ],
   "source": [
    "plot_loghist(cope_usdc, 20, \"COPE-USDC\", number_offset=6)"
   ]
  },
  {
   "cell_type": "markdown",
   "id": "116d01c8",
   "metadata": {},
   "source": [
    "### Top 20 COPE-USDC Fusion Pool Whales"
   ]
  },
  {
   "cell_type": "code",
   "execution_count": 28,
   "id": "3483a4d1",
   "metadata": {},
   "outputs": [
    {
     "data": {
      "text/html": [
       "<div>\n",
       "<style scoped>\n",
       "    .dataframe tbody tr th:only-of-type {\n",
       "        vertical-align: middle;\n",
       "    }\n",
       "\n",
       "    .dataframe tbody tr th {\n",
       "        vertical-align: top;\n",
       "    }\n",
       "\n",
       "    .dataframe thead th {\n",
       "        text-align: right;\n",
       "    }\n",
       "</style>\n",
       "<table border=\"1\" class=\"dataframe\">\n",
       "  <thead>\n",
       "    <tr style=\"text-align: right;\">\n",
       "      <th></th>\n",
       "      <th>Staked COPE-USDC LP amount</th>\n",
       "    </tr>\n",
       "    <tr>\n",
       "      <th>publicKey</th>\n",
       "      <th></th>\n",
       "    </tr>\n",
       "  </thead>\n",
       "  <tbody>\n",
       "    <tr>\n",
       "      <th>CuieVDEDtLo7FypA9SbLM9saXFdb1dsshEkyErMqkRQq</th>\n",
       "      <td>1881359.00000</td>\n",
       "    </tr>\n",
       "    <tr>\n",
       "      <th>HgMzedC2pNEZ6BwkinwD1QiHYxz4D6gQfzQdoxqjcvsh</th>\n",
       "      <td>1000290.00000</td>\n",
       "    </tr>\n",
       "    <tr>\n",
       "      <th>AcKwmcTmMNnD5hWSLAku9PW9PrJkLJcr4RSNav9roGAa</th>\n",
       "      <td>663028.00000</td>\n",
       "    </tr>\n",
       "    <tr>\n",
       "      <th>3dBFPCyjRpEu3Z9dTiTrXk3T9nntvecjX1UqNeuancp8</th>\n",
       "      <td>511370.00000</td>\n",
       "    </tr>\n",
       "    <tr>\n",
       "      <th>46NAjBDQZMQ3LW6kofZkYug2kLjDeiWW6ewUFAAMsB1S</th>\n",
       "      <td>490958.00000</td>\n",
       "    </tr>\n",
       "    <tr>\n",
       "      <th>HtmoTTGrfHnxG7fZ3bh1ZSMa1oqPuLXDxpker4ynXE2y</th>\n",
       "      <td>311819.00000</td>\n",
       "    </tr>\n",
       "    <tr>\n",
       "      <th>9PGjxWhx5iARoTz6gwDmDBStFoDq591nCHBRXqXcej2d</th>\n",
       "      <td>230747.00000</td>\n",
       "    </tr>\n",
       "    <tr>\n",
       "      <th>B85QgH2CDeHV3Fp2VCZSeTo4ePH3pWSTVEXtVet47WE1</th>\n",
       "      <td>173543.00000</td>\n",
       "    </tr>\n",
       "    <tr>\n",
       "      <th>GDqszhod3VavtX3aTkmHnYuHzow9QURK9CeWv6HwFZhV</th>\n",
       "      <td>147313.00000</td>\n",
       "    </tr>\n",
       "    <tr>\n",
       "      <th>3zjr9qAMWzr5NEcKigZL4AfM2pjngWUSZhjwQcwtCmGb</th>\n",
       "      <td>124492.00000</td>\n",
       "    </tr>\n",
       "    <tr>\n",
       "      <th>63dKzmj9qFgMUd1WLFbxVadp3Duvmy1jWDVjQARNboq5</th>\n",
       "      <td>120428.00000</td>\n",
       "    </tr>\n",
       "    <tr>\n",
       "      <th>GmUaZsfqSsg13KL3wWvadKsCuMW4TBRZRBHyAroownev</th>\n",
       "      <td>114900.00000</td>\n",
       "    </tr>\n",
       "    <tr>\n",
       "      <th>HY4DoVT2MnFrQwsJWfshmeHqDhtY7ZAxLz2JhuMfA2hV</th>\n",
       "      <td>104946.00000</td>\n",
       "    </tr>\n",
       "    <tr>\n",
       "      <th>FuEkAjfS3bvvPgY7FpqB4vEwfrDaFbzXmgn8CarNnb7x</th>\n",
       "      <td>101794.00000</td>\n",
       "    </tr>\n",
       "    <tr>\n",
       "      <th>Fzyeogg5LStL8jGGqehdMmQ3ZPTGDF94CNUxcBkmQ9pB</th>\n",
       "      <td>91382.00000</td>\n",
       "    </tr>\n",
       "    <tr>\n",
       "      <th>4ggotefkSLzB5orLL8kyxD6gNAHmL4U9shAS7TsvBsqR</th>\n",
       "      <td>74232.00000</td>\n",
       "    </tr>\n",
       "    <tr>\n",
       "      <th>FRnFVoakjCChVX5DSSfoyKtTqod36uQyB7deXqNB7XYG</th>\n",
       "      <td>71838.00000</td>\n",
       "    </tr>\n",
       "    <tr>\n",
       "      <th>8QC21y5JhK7bHcEy86ftHaymzTA5ynZApiPVgvkeuGd8</th>\n",
       "      <td>70378.00000</td>\n",
       "    </tr>\n",
       "    <tr>\n",
       "      <th>9TU7vknCNixuw3PkfikUwMZXU9D8HKKnE1jfaLQCBQT9</th>\n",
       "      <td>67684.00000</td>\n",
       "    </tr>\n",
       "    <tr>\n",
       "      <th>82RVASqyiriE5U2H5vCniSTuRupCX5AgFP5Zc6ghuxJx</th>\n",
       "      <td>64821.00000</td>\n",
       "    </tr>\n",
       "  </tbody>\n",
       "</table>\n",
       "</div>"
      ],
      "text/plain": [
       "                                              Staked COPE-USDC LP amount\n",
       "publicKey                                                               \n",
       "CuieVDEDtLo7FypA9SbLM9saXFdb1dsshEkyErMqkRQq               1881359.00000\n",
       "HgMzedC2pNEZ6BwkinwD1QiHYxz4D6gQfzQdoxqjcvsh               1000290.00000\n",
       "AcKwmcTmMNnD5hWSLAku9PW9PrJkLJcr4RSNav9roGAa                663028.00000\n",
       "3dBFPCyjRpEu3Z9dTiTrXk3T9nntvecjX1UqNeuancp8                511370.00000\n",
       "46NAjBDQZMQ3LW6kofZkYug2kLjDeiWW6ewUFAAMsB1S                490958.00000\n",
       "HtmoTTGrfHnxG7fZ3bh1ZSMa1oqPuLXDxpker4ynXE2y                311819.00000\n",
       "9PGjxWhx5iARoTz6gwDmDBStFoDq591nCHBRXqXcej2d                230747.00000\n",
       "B85QgH2CDeHV3Fp2VCZSeTo4ePH3pWSTVEXtVet47WE1                173543.00000\n",
       "GDqszhod3VavtX3aTkmHnYuHzow9QURK9CeWv6HwFZhV                147313.00000\n",
       "3zjr9qAMWzr5NEcKigZL4AfM2pjngWUSZhjwQcwtCmGb                124492.00000\n",
       "63dKzmj9qFgMUd1WLFbxVadp3Duvmy1jWDVjQARNboq5                120428.00000\n",
       "GmUaZsfqSsg13KL3wWvadKsCuMW4TBRZRBHyAroownev                114900.00000\n",
       "HY4DoVT2MnFrQwsJWfshmeHqDhtY7ZAxLz2JhuMfA2hV                104946.00000\n",
       "FuEkAjfS3bvvPgY7FpqB4vEwfrDaFbzXmgn8CarNnb7x                101794.00000\n",
       "Fzyeogg5LStL8jGGqehdMmQ3ZPTGDF94CNUxcBkmQ9pB                 91382.00000\n",
       "4ggotefkSLzB5orLL8kyxD6gNAHmL4U9shAS7TsvBsqR                 74232.00000\n",
       "FRnFVoakjCChVX5DSSfoyKtTqod36uQyB7deXqNB7XYG                 71838.00000\n",
       "8QC21y5JhK7bHcEy86ftHaymzTA5ynZApiPVgvkeuGd8                 70378.00000\n",
       "9TU7vknCNixuw3PkfikUwMZXU9D8HKKnE1jfaLQCBQT9                 67684.00000\n",
       "82RVASqyiriE5U2H5vCniSTuRupCX5AgFP5Zc6ghuxJx                 64821.00000"
      ]
     },
     "execution_count": 28,
     "metadata": {},
     "output_type": "execute_result"
    }
   ],
   "source": [
    "cope_usdc.nlargest(20, 'Staked COPE-USDC LP amount')"
   ]
  },
  {
   "cell_type": "markdown",
   "id": "5de7988d",
   "metadata": {},
   "source": [
    "## MEDIA-USDC"
   ]
  },
  {
   "cell_type": "code",
   "execution_count": 29,
   "id": "f34b98f7",
   "metadata": {},
   "outputs": [],
   "source": [
    "media_usdc = fusion_pool_distros[5].set_index(\"publicKey\")"
   ]
  },
  {
   "cell_type": "code",
   "execution_count": 30,
   "id": "d68a9bbb",
   "metadata": {},
   "outputs": [
    {
     "data": {
      "text/html": [
       "<div>\n",
       "<style scoped>\n",
       "    .dataframe tbody tr th:only-of-type {\n",
       "        vertical-align: middle;\n",
       "    }\n",
       "\n",
       "    .dataframe tbody tr th {\n",
       "        vertical-align: top;\n",
       "    }\n",
       "\n",
       "    .dataframe thead th {\n",
       "        text-align: right;\n",
       "    }\n",
       "</style>\n",
       "<table border=\"1\" class=\"dataframe\">\n",
       "  <thead>\n",
       "    <tr style=\"text-align: right;\">\n",
       "      <th></th>\n",
       "      <th>Staked MEDIA-USDC LP amount</th>\n",
       "    </tr>\n",
       "  </thead>\n",
       "  <tbody>\n",
       "    <tr>\n",
       "      <th>count</th>\n",
       "      <td>2595.00000</td>\n",
       "    </tr>\n",
       "    <tr>\n",
       "      <th>mean</th>\n",
       "      <td>144.39732</td>\n",
       "    </tr>\n",
       "    <tr>\n",
       "      <th>std</th>\n",
       "      <td>1922.25329</td>\n",
       "    </tr>\n",
       "    <tr>\n",
       "      <th>min</th>\n",
       "      <td>0.00000</td>\n",
       "    </tr>\n",
       "    <tr>\n",
       "      <th>25%</th>\n",
       "      <td>1.92166</td>\n",
       "    </tr>\n",
       "    <tr>\n",
       "      <th>50%</th>\n",
       "      <td>6.53306</td>\n",
       "    </tr>\n",
       "    <tr>\n",
       "      <th>75%</th>\n",
       "      <td>14.19375</td>\n",
       "    </tr>\n",
       "    <tr>\n",
       "      <th>max</th>\n",
       "      <td>70708.04708</td>\n",
       "    </tr>\n",
       "  </tbody>\n",
       "</table>\n",
       "</div>"
      ],
      "text/plain": [
       "       Staked MEDIA-USDC LP amount\n",
       "count                   2595.00000\n",
       "mean                     144.39732\n",
       "std                     1922.25329\n",
       "min                        0.00000\n",
       "25%                        1.92166\n",
       "50%                        6.53306\n",
       "75%                       14.19375\n",
       "max                    70708.04708"
      ]
     },
     "execution_count": 30,
     "metadata": {},
     "output_type": "execute_result"
    }
   ],
   "source": [
    "media_usdc.describe()"
   ]
  },
  {
   "cell_type": "code",
   "execution_count": 31,
   "id": "3bb93c4d",
   "metadata": {
    "scrolled": true
   },
   "outputs": [
    {
     "data": {
      "image/png": "[encoded data removed]",
      "text/plain": [
       "<Figure size 1080x720 with 1 Axes>"
      ]
     },
     "metadata": {
      "needs_background": "light"
     },
     "output_type": "display_data"
    }
   ],
   "source": [
    "plot_loghist(media_usdc, 20, \"MEDIA-USDC\", number_offset=6)"
   ]
  },
  {
   "cell_type": "markdown",
   "id": "b7b05458",
   "metadata": {},
   "source": [
    "### Top 20 MEDIA-USDC Fusion Pool Whales"
   ]
  },
  {
   "cell_type": "code",
   "execution_count": 32,
   "id": "4823fc32",
   "metadata": {},
   "outputs": [
    {
     "data": {
      "text/html": [
       "<div>\n",
       "<style scoped>\n",
       "    .dataframe tbody tr th:only-of-type {\n",
       "        vertical-align: middle;\n",
       "    }\n",
       "\n",
       "    .dataframe tbody tr th {\n",
       "        vertical-align: top;\n",
       "    }\n",
       "\n",
       "    .dataframe thead th {\n",
       "        text-align: right;\n",
       "    }\n",
       "</style>\n",
       "<table border=\"1\" class=\"dataframe\">\n",
       "  <thead>\n",
       "    <tr style=\"text-align: right;\">\n",
       "      <th></th>\n",
       "      <th>Staked MEDIA-USDC LP amount</th>\n",
       "    </tr>\n",
       "    <tr>\n",
       "      <th>publicKey</th>\n",
       "      <th></th>\n",
       "    </tr>\n",
       "  </thead>\n",
       "  <tbody>\n",
       "    <tr>\n",
       "      <th>CuieVDEDtLo7FypA9SbLM9saXFdb1dsshEkyErMqkRQq</th>\n",
       "      <td>70708.04708</td>\n",
       "    </tr>\n",
       "    <tr>\n",
       "      <th>4V47jL28QJYsXDbCLd4xLV9byGoX4NwaUC4mepNpnntQ</th>\n",
       "      <td>45687.65097</td>\n",
       "    </tr>\n",
       "    <tr>\n",
       "      <th>DSKqiUo59opf8XvbN9FqkFMVE31CaQNjd8hNM7TE1ra9</th>\n",
       "      <td>30960.31148</td>\n",
       "    </tr>\n",
       "    <tr>\n",
       "      <th>9iVYJy8nfaN5GpxjZn2PQtqcoTxNXSkxoqSKB2MVPTQR</th>\n",
       "      <td>23908.99473</td>\n",
       "    </tr>\n",
       "    <tr>\n",
       "      <th>46NAjBDQZMQ3LW6kofZkYug2kLjDeiWW6ewUFAAMsB1S</th>\n",
       "      <td>21341.15010</td>\n",
       "    </tr>\n",
       "    <tr>\n",
       "      <th>EwyVReqQy1bes2qSeWtxNokD51aReiE3T6hws21WBtMb</th>\n",
       "      <td>10753.44606</td>\n",
       "    </tr>\n",
       "    <tr>\n",
       "      <th>HQiURCerNRJX1AovZpEiaQ7pP2Rs6RAw6RuoojeSdrHb</th>\n",
       "      <td>9808.10733</td>\n",
       "    </tr>\n",
       "    <tr>\n",
       "      <th>8Qnp5yyLq6xPpegsEPcjYNQvqpzASx2Ar9EJhPNf5u38</th>\n",
       "      <td>9063.20509</td>\n",
       "    </tr>\n",
       "    <tr>\n",
       "      <th>CqwM3As8VMeHNTsW2uy7EtdVDKDC1ojvL5njt1RcLAaK</th>\n",
       "      <td>7053.30520</td>\n",
       "    </tr>\n",
       "    <tr>\n",
       "      <th>GjZi8vXkCDhT8DCfT3snPm7T6M45fcsCDo7r39AxSYYb</th>\n",
       "      <td>6319.11477</td>\n",
       "    </tr>\n",
       "    <tr>\n",
       "      <th>35NNVCgz3uQph5NpgGmdiFgAYw7eJ6ys2WekxJo6u249</th>\n",
       "      <td>4631.19201</td>\n",
       "    </tr>\n",
       "    <tr>\n",
       "      <th>HXnKkgvz4z3KGFn78W5D9GDqUuTnKwbE5Ty4xr1EvMFP</th>\n",
       "      <td>4278.44115</td>\n",
       "    </tr>\n",
       "    <tr>\n",
       "      <th>BsRzf1BE5UVySKZ8mAVwdbPwjDKKJ3ic15mJkUc2Wg3i</th>\n",
       "      <td>4056.56754</td>\n",
       "    </tr>\n",
       "    <tr>\n",
       "      <th>Fg7cF1aHysEN3fHPh7MfmCD83SnFQwgyiAXWqx8NWa8p</th>\n",
       "      <td>3454.92378</td>\n",
       "    </tr>\n",
       "    <tr>\n",
       "      <th>A78A1N5yauwFsA5sWeF1qvbVgEES3guLPLdcKtqieNew</th>\n",
       "      <td>3434.65099</td>\n",
       "    </tr>\n",
       "    <tr>\n",
       "      <th>3dBFPCyjRpEu3Z9dTiTrXk3T9nntvecjX1UqNeuancp8</th>\n",
       "      <td>3230.08518</td>\n",
       "    </tr>\n",
       "    <tr>\n",
       "      <th>J1EhGf3jNJQqWmcUhcAAxpR268jX6RxYxk7fgaJxLNar</th>\n",
       "      <td>3228.02725</td>\n",
       "    </tr>\n",
       "    <tr>\n",
       "      <th>83GgkjqHSFSaLH7iYVr7a7TZ6PkpcE3pXDpst2hQVC7X</th>\n",
       "      <td>2738.62485</td>\n",
       "    </tr>\n",
       "    <tr>\n",
       "      <th>C3PvKF1Ae76CN2Fa4ATuJkWF499fRcP8LVdWkQLCrLcB</th>\n",
       "      <td>2348.69675</td>\n",
       "    </tr>\n",
       "    <tr>\n",
       "      <th>EyNuRGg3e6hQR9nXrDSmd28hkdgMo4w5k4xRVrmqWdxW</th>\n",
       "      <td>2205.90665</td>\n",
       "    </tr>\n",
       "  </tbody>\n",
       "</table>\n",
       "</div>"
      ],
      "text/plain": [
       "                                              Staked MEDIA-USDC LP amount\n",
       "publicKey                                                                \n",
       "CuieVDEDtLo7FypA9SbLM9saXFdb1dsshEkyErMqkRQq                  70708.04708\n",
       "4V47jL28QJYsXDbCLd4xLV9byGoX4NwaUC4mepNpnntQ                  45687.65097\n",
       "DSKqiUo59opf8XvbN9FqkFMVE31CaQNjd8hNM7TE1ra9                  30960.31148\n",
       "9iVYJy8nfaN5GpxjZn2PQtqcoTxNXSkxoqSKB2MVPTQR                  23908.99473\n",
       "46NAjBDQZMQ3LW6kofZkYug2kLjDeiWW6ewUFAAMsB1S                  21341.15010\n",
       "EwyVReqQy1bes2qSeWtxNokD51aReiE3T6hws21WBtMb                  10753.44606\n",
       "HQiURCerNRJX1AovZpEiaQ7pP2Rs6RAw6RuoojeSdrHb                   9808.10733\n",
       "8Qnp5yyLq6xPpegsEPcjYNQvqpzASx2Ar9EJhPNf5u38                   9063.20509\n",
       "CqwM3As8VMeHNTsW2uy7EtdVDKDC1ojvL5njt1RcLAaK                   7053.30520\n",
       "GjZi8vXkCDhT8DCfT3snPm7T6M45fcsCDo7r39AxSYYb                   6319.11477\n",
       "35NNVCgz3uQph5NpgGmdiFgAYw7eJ6ys2WekxJo6u249                   4631.19201\n",
       "HXnKkgvz4z3KGFn78W5D9GDqUuTnKwbE5Ty4xr1EvMFP                   4278.44115\n",
       "BsRzf1BE5UVySKZ8mAVwdbPwjDKKJ3ic15mJkUc2Wg3i                   4056.56754\n",
       "Fg7cF1aHysEN3fHPh7MfmCD83SnFQwgyiAXWqx8NWa8p                   3454.92378\n",
       "A78A1N5yauwFsA5sWeF1qvbVgEES3guLPLdcKtqieNew                   3434.65099\n",
       "3dBFPCyjRpEu3Z9dTiTrXk3T9nntvecjX1UqNeuancp8                   3230.08518\n",
       "J1EhGf3jNJQqWmcUhcAAxpR268jX6RxYxk7fgaJxLNar                   3228.02725\n",
       "83GgkjqHSFSaLH7iYVr7a7TZ6PkpcE3pXDpst2hQVC7X                   2738.62485\n",
       "C3PvKF1Ae76CN2Fa4ATuJkWF499fRcP8LVdWkQLCrLcB                   2348.69675\n",
       "EyNuRGg3e6hQR9nXrDSmd28hkdgMo4w5k4xRVrmqWdxW                   2205.90665"
      ]
     },
     "execution_count": 32,
     "metadata": {},
     "output_type": "execute_result"
    }
   ],
   "source": [
    "media_usdc.nlargest(20, 'Staked MEDIA-USDC LP amount')"
   ]
  },
  {
   "cell_type": "markdown",
   "id": "fd24e9b5",
   "metadata": {},
   "source": [
    "## STEP-USDC"
   ]
  },
  {
   "cell_type": "code",
   "execution_count": 33,
   "id": "6923436e",
   "metadata": {},
   "outputs": [],
   "source": [
    "step_usdc = fusion_pool_distros[6].set_index(\"publicKey\")"
   ]
  },
  {
   "cell_type": "code",
   "execution_count": 34,
   "id": "b84d6e85",
   "metadata": {},
   "outputs": [
    {
     "data": {
      "text/html": [
       "<div>\n",
       "<style scoped>\n",
       "    .dataframe tbody tr th:only-of-type {\n",
       "        vertical-align: middle;\n",
       "    }\n",
       "\n",
       "    .dataframe tbody tr th {\n",
       "        vertical-align: top;\n",
       "    }\n",
       "\n",
       "    .dataframe thead th {\n",
       "        text-align: right;\n",
       "    }\n",
       "</style>\n",
       "<table border=\"1\" class=\"dataframe\">\n",
       "  <thead>\n",
       "    <tr style=\"text-align: right;\">\n",
       "      <th></th>\n",
       "      <th>Staked STEP-USDC LP amount</th>\n",
       "    </tr>\n",
       "  </thead>\n",
       "  <tbody>\n",
       "    <tr>\n",
       "      <th>count</th>\n",
       "      <td>7662.00000</td>\n",
       "    </tr>\n",
       "    <tr>\n",
       "      <th>mean</th>\n",
       "      <td>309.70857</td>\n",
       "    </tr>\n",
       "    <tr>\n",
       "      <th>std</th>\n",
       "      <td>4977.16473</td>\n",
       "    </tr>\n",
       "    <tr>\n",
       "      <th>min</th>\n",
       "      <td>0.00000</td>\n",
       "    </tr>\n",
       "    <tr>\n",
       "      <th>25%</th>\n",
       "      <td>5.83332</td>\n",
       "    </tr>\n",
       "    <tr>\n",
       "      <th>50%</th>\n",
       "      <td>20.61214</td>\n",
       "    </tr>\n",
       "    <tr>\n",
       "      <th>75%</th>\n",
       "      <td>76.59558</td>\n",
       "    </tr>\n",
       "    <tr>\n",
       "      <th>max</th>\n",
       "      <td>281064.25005</td>\n",
       "    </tr>\n",
       "  </tbody>\n",
       "</table>\n",
       "</div>"
      ],
      "text/plain": [
       "       Staked STEP-USDC LP amount\n",
       "count                  7662.00000\n",
       "mean                    309.70857\n",
       "std                    4977.16473\n",
       "min                       0.00000\n",
       "25%                       5.83332\n",
       "50%                      20.61214\n",
       "75%                      76.59558\n",
       "max                  281064.25005"
      ]
     },
     "execution_count": 34,
     "metadata": {},
     "output_type": "execute_result"
    }
   ],
   "source": [
    "step_usdc.describe()"
   ]
  },
  {
   "cell_type": "code",
   "execution_count": 35,
   "id": "c170bda0",
   "metadata": {},
   "outputs": [
    {
     "data": {
      "image/png": "[encoded data removed]",
      "text/plain": [
       "<Figure size 1080x720 with 1 Axes>"
      ]
     },
     "metadata": {
      "needs_background": "light"
     },
     "output_type": "display_data"
    }
   ],
   "source": [
    "plot_loghist(step_usdc, 20, \"STEP-USDC\", number_offset=25)"
   ]
  },
  {
   "cell_type": "markdown",
   "id": "eb7f5533",
   "metadata": {},
   "source": [
    "### Top 20 STEP-USDC Fusion Pool Whales"
   ]
  },
  {
   "cell_type": "code",
   "execution_count": 36,
   "id": "d89f0a39",
   "metadata": {},
   "outputs": [
    {
     "data": {
      "text/html": [
       "<div>\n",
       "<style scoped>\n",
       "    .dataframe tbody tr th:only-of-type {\n",
       "        vertical-align: middle;\n",
       "    }\n",
       "\n",
       "    .dataframe tbody tr th {\n",
       "        vertical-align: top;\n",
       "    }\n",
       "\n",
       "    .dataframe thead th {\n",
       "        text-align: right;\n",
       "    }\n",
       "</style>\n",
       "<table border=\"1\" class=\"dataframe\">\n",
       "  <thead>\n",
       "    <tr style=\"text-align: right;\">\n",
       "      <th></th>\n",
       "      <th>Staked STEP-USDC LP amount</th>\n",
       "    </tr>\n",
       "    <tr>\n",
       "      <th>publicKey</th>\n",
       "      <th></th>\n",
       "    </tr>\n",
       "  </thead>\n",
       "  <tbody>\n",
       "    <tr>\n",
       "      <th>Fj3e4P4ARwaWtLVBrt3c7TjstDc55CjKFxv8tg2Po89q</th>\n",
       "      <td>281064.25005</td>\n",
       "    </tr>\n",
       "    <tr>\n",
       "      <th>CuieVDEDtLo7FypA9SbLM9saXFdb1dsshEkyErMqkRQq</th>\n",
       "      <td>253048.63665</td>\n",
       "    </tr>\n",
       "    <tr>\n",
       "      <th>DSKqiUo59opf8XvbN9FqkFMVE31CaQNjd8hNM7TE1ra9</th>\n",
       "      <td>108240.61393</td>\n",
       "    </tr>\n",
       "    <tr>\n",
       "      <th>81isTzQuNaa6J1TBCjkUYWzShiPYiyxfykytgUa6byKF</th>\n",
       "      <td>103310.37763</td>\n",
       "    </tr>\n",
       "    <tr>\n",
       "      <th>46NAjBDQZMQ3LW6kofZkYug2kLjDeiWW6ewUFAAMsB1S</th>\n",
       "      <td>80319.87788</td>\n",
       "    </tr>\n",
       "    <tr>\n",
       "      <th>3u7ZMu9h3C1KFHL8iS7eXvQaDCoTiV7aW4d3dgrPuY7L</th>\n",
       "      <td>70864.03646</td>\n",
       "    </tr>\n",
       "    <tr>\n",
       "      <th>8g8KqH5MmXzWVUQGLzFroYBFJ8ctKKE4tHFibbzJeYRz</th>\n",
       "      <td>62325.80906</td>\n",
       "    </tr>\n",
       "    <tr>\n",
       "      <th>A1bQpW1nahTq28gtZtBtLYjhDup4M15PxyPLwgryu3LB</th>\n",
       "      <td>56000.34191</td>\n",
       "    </tr>\n",
       "    <tr>\n",
       "      <th>BFxV6vtbT6149fZYeyt79PzRae2qye2vEyVbsu2D5XAQ</th>\n",
       "      <td>29292.52676</td>\n",
       "    </tr>\n",
       "    <tr>\n",
       "      <th>75zFFow84GvqXP5qT7yoYmFxAxTSjFSKrbtXnqoqujMC</th>\n",
       "      <td>21806.91109</td>\n",
       "    </tr>\n",
       "    <tr>\n",
       "      <th>4knbdJwPrD6rJ6U9swCQnFGKJjW1MtLnA9DFSf74wrmU</th>\n",
       "      <td>19928.83837</td>\n",
       "    </tr>\n",
       "    <tr>\n",
       "      <th>3dBFPCyjRpEu3Z9dTiTrXk3T9nntvecjX1UqNeuancp8</th>\n",
       "      <td>19466.50586</td>\n",
       "    </tr>\n",
       "    <tr>\n",
       "      <th>GquqZs6x4gQgpqyRnengHHWCKowrKWwAR2RhMmvdwBPV</th>\n",
       "      <td>18362.38402</td>\n",
       "    </tr>\n",
       "    <tr>\n",
       "      <th>6Sx8oiDrcRqrDj9mgM5Htus89kQG8uGkqeyEEp5eQ85d</th>\n",
       "      <td>16409.48165</td>\n",
       "    </tr>\n",
       "    <tr>\n",
       "      <th>GbPv3P8fDbHa62p1gpX5xGfv181nmZBUivqoZMNrFDR7</th>\n",
       "      <td>15896.33501</td>\n",
       "    </tr>\n",
       "    <tr>\n",
       "      <th>48gvqSrDbtY1kt8PAg9Q67eS3indrDQ1pyNRoPqKjQPn</th>\n",
       "      <td>13270.17777</td>\n",
       "    </tr>\n",
       "    <tr>\n",
       "      <th>CA7kgdwsAarMxNnpVmDjrBYYpdiiPtdeoae3urfPmTTY</th>\n",
       "      <td>13188.52394</td>\n",
       "    </tr>\n",
       "    <tr>\n",
       "      <th>7AwAGPwmMkJA2a2HzFa2KzgLt1zs3yfvQHETKhKawr5Y</th>\n",
       "      <td>12584.38065</td>\n",
       "    </tr>\n",
       "    <tr>\n",
       "      <th>Hznd4bWtmQYbwn9NHageaK2FFDiFA7K1u1YtnuJCdkxi</th>\n",
       "      <td>10756.33329</td>\n",
       "    </tr>\n",
       "    <tr>\n",
       "      <th>GB35RLs4SoYLNSNu79XXWLEtFYxoACWcYVKaziZecn9e</th>\n",
       "      <td>10684.22065</td>\n",
       "    </tr>\n",
       "  </tbody>\n",
       "</table>\n",
       "</div>"
      ],
      "text/plain": [
       "                                              Staked STEP-USDC LP amount\n",
       "publicKey                                                               \n",
       "Fj3e4P4ARwaWtLVBrt3c7TjstDc55CjKFxv8tg2Po89q                281064.25005\n",
       "CuieVDEDtLo7FypA9SbLM9saXFdb1dsshEkyErMqkRQq                253048.63665\n",
       "DSKqiUo59opf8XvbN9FqkFMVE31CaQNjd8hNM7TE1ra9                108240.61393\n",
       "81isTzQuNaa6J1TBCjkUYWzShiPYiyxfykytgUa6byKF                103310.37763\n",
       "46NAjBDQZMQ3LW6kofZkYug2kLjDeiWW6ewUFAAMsB1S                 80319.87788\n",
       "3u7ZMu9h3C1KFHL8iS7eXvQaDCoTiV7aW4d3dgrPuY7L                 70864.03646\n",
       "8g8KqH5MmXzWVUQGLzFroYBFJ8ctKKE4tHFibbzJeYRz                 62325.80906\n",
       "A1bQpW1nahTq28gtZtBtLYjhDup4M15PxyPLwgryu3LB                 56000.34191\n",
       "BFxV6vtbT6149fZYeyt79PzRae2qye2vEyVbsu2D5XAQ                 29292.52676\n",
       "75zFFow84GvqXP5qT7yoYmFxAxTSjFSKrbtXnqoqujMC                 21806.91109\n",
       "4knbdJwPrD6rJ6U9swCQnFGKJjW1MtLnA9DFSf74wrmU                 19928.83837\n",
       "3dBFPCyjRpEu3Z9dTiTrXk3T9nntvecjX1UqNeuancp8                 19466.50586\n",
       "GquqZs6x4gQgpqyRnengHHWCKowrKWwAR2RhMmvdwBPV                 18362.38402\n",
       "6Sx8oiDrcRqrDj9mgM5Htus89kQG8uGkqeyEEp5eQ85d                 16409.48165\n",
       "GbPv3P8fDbHa62p1gpX5xGfv181nmZBUivqoZMNrFDR7                 15896.33501\n",
       "48gvqSrDbtY1kt8PAg9Q67eS3indrDQ1pyNRoPqKjQPn                 13270.17777\n",
       "CA7kgdwsAarMxNnpVmDjrBYYpdiiPtdeoae3urfPmTTY                 13188.52394\n",
       "7AwAGPwmMkJA2a2HzFa2KzgLt1zs3yfvQHETKhKawr5Y                 12584.38065\n",
       "Hznd4bWtmQYbwn9NHageaK2FFDiFA7K1u1YtnuJCdkxi                 10756.33329\n",
       "GB35RLs4SoYLNSNu79XXWLEtFYxoACWcYVKaziZecn9e                 10684.22065"
      ]
     },
     "execution_count": 36,
     "metadata": {},
     "output_type": "execute_result"
    }
   ],
   "source": [
    "step_usdc.nlargest(20, 'Staked STEP-USDC LP amount')"
   ]
  },
  {
   "cell_type": "markdown",
   "id": "d43a5fe9",
   "metadata": {},
   "source": [
    "## RAY Single-sided Staking"
   ]
  },
  {
   "cell_type": "code",
   "execution_count": 37,
   "id": "7fc5aeda",
   "metadata": {},
   "outputs": [],
   "source": [
    "ray_staking_task = asyncio.create_task(amain_stake())\n",
    "ray_staking_distro = await ray_staking_task"
   ]
  },
  {
   "cell_type": "code",
   "execution_count": 38,
   "id": "d826f343",
   "metadata": {},
   "outputs": [],
   "source": [
    "ray_distro = ray_staking_distro.set_index(\"publicKey\")"
   ]
  },
  {
   "cell_type": "code",
   "execution_count": 39,
   "id": "46048746",
   "metadata": {},
   "outputs": [
    {
     "data": {
      "text/html": [
       "<div>\n",
       "<style scoped>\n",
       "    .dataframe tbody tr th:only-of-type {\n",
       "        vertical-align: middle;\n",
       "    }\n",
       "\n",
       "    .dataframe tbody tr th {\n",
       "        vertical-align: top;\n",
       "    }\n",
       "\n",
       "    .dataframe thead th {\n",
       "        text-align: right;\n",
       "    }\n",
       "</style>\n",
       "<table border=\"1\" class=\"dataframe\">\n",
       "  <thead>\n",
       "    <tr style=\"text-align: right;\">\n",
       "      <th></th>\n",
       "      <th>Staked RAY amount</th>\n",
       "    </tr>\n",
       "  </thead>\n",
       "  <tbody>\n",
       "    <tr>\n",
       "      <th>count</th>\n",
       "      <td>52461.00000</td>\n",
       "    </tr>\n",
       "    <tr>\n",
       "      <th>mean</th>\n",
       "      <td>226.47038</td>\n",
       "    </tr>\n",
       "    <tr>\n",
       "      <th>std</th>\n",
       "      <td>1865.12015</td>\n",
       "    </tr>\n",
       "    <tr>\n",
       "      <th>min</th>\n",
       "      <td>0.00000</td>\n",
       "    </tr>\n",
       "    <tr>\n",
       "      <th>25%</th>\n",
       "      <td>23.94563</td>\n",
       "    </tr>\n",
       "    <tr>\n",
       "      <th>50%</th>\n",
       "      <td>50.01000</td>\n",
       "    </tr>\n",
       "    <tr>\n",
       "      <th>75%</th>\n",
       "      <td>100.01091</td>\n",
       "    </tr>\n",
       "    <tr>\n",
       "      <th>max</th>\n",
       "      <td>185999.09581</td>\n",
       "    </tr>\n",
       "  </tbody>\n",
       "</table>\n",
       "</div>"
      ],
      "text/plain": [
       "       Staked RAY amount\n",
       "count        52461.00000\n",
       "mean           226.47038\n",
       "std           1865.12015\n",
       "min              0.00000\n",
       "25%             23.94563\n",
       "50%             50.01000\n",
       "75%            100.01091\n",
       "max         185999.09581"
      ]
     },
     "execution_count": 39,
     "metadata": {},
     "output_type": "execute_result"
    }
   ],
   "source": [
    "ray_distro.describe()"
   ]
  },
  {
   "cell_type": "code",
   "execution_count": 40,
   "id": "a6725d13",
   "metadata": {},
   "outputs": [
    {
     "data": {
      "image/png": "[encoded data removed]",
      "text/plain": [
       "<Figure size 1080x720 with 1 Axes>"
      ]
     },
     "metadata": {
      "needs_background": "light"
     },
     "output_type": "display_data"
    }
   ],
   "source": [
    "plot_loghist(ray_distro, 20, \"RAY\", number_offset=250)"
   ]
  },
  {
   "cell_type": "markdown",
   "id": "1375eb0c",
   "metadata": {},
   "source": [
    "### Top 20 RAY Staking Whales"
   ]
  },
  {
   "cell_type": "code",
   "execution_count": 41,
   "id": "18ab0b75",
   "metadata": {},
   "outputs": [
    {
     "data": {
      "text/html": [
       "<div>\n",
       "<style scoped>\n",
       "    .dataframe tbody tr th:only-of-type {\n",
       "        vertical-align: middle;\n",
       "    }\n",
       "\n",
       "    .dataframe tbody tr th {\n",
       "        vertical-align: top;\n",
       "    }\n",
       "\n",
       "    .dataframe thead th {\n",
       "        text-align: right;\n",
       "    }\n",
       "</style>\n",
       "<table border=\"1\" class=\"dataframe\">\n",
       "  <thead>\n",
       "    <tr style=\"text-align: right;\">\n",
       "      <th></th>\n",
       "      <th>Staked RAY amount</th>\n",
       "    </tr>\n",
       "    <tr>\n",
       "      <th>publicKey</th>\n",
       "      <th></th>\n",
       "    </tr>\n",
       "  </thead>\n",
       "  <tbody>\n",
       "    <tr>\n",
       "      <th>9tBhvGNV65AdZbZpB37duEFCAp4ke5Yo2wDFEqU5fkx4</th>\n",
       "      <td>185999.09581</td>\n",
       "    </tr>\n",
       "    <tr>\n",
       "      <th>Ez2U27TRScksd6q7xoVgX44gX9HAjviN2cdKAL3cFBFE</th>\n",
       "      <td>171359.32330</td>\n",
       "    </tr>\n",
       "    <tr>\n",
       "      <th>81isTzQuNaa6J1TBCjkUYWzShiPYiyxfykytgUa6byKF</th>\n",
       "      <td>140000.33992</td>\n",
       "    </tr>\n",
       "    <tr>\n",
       "      <th>5as1FyutWkK7t8mGpssGwLFJhm4e7K3RqYFncAwutUJ6</th>\n",
       "      <td>100737.81612</td>\n",
       "    </tr>\n",
       "    <tr>\n",
       "      <th>6t6wkuyjUCVtcsh9DP1o9ZS73fEXdrTc32tejSbGRwnx</th>\n",
       "      <td>97884.70933</td>\n",
       "    </tr>\n",
       "    <tr>\n",
       "      <th>7VGiJgjKzjxJSRNmdHKx8UfzH29UPwVeAFjB3JYgMy4t</th>\n",
       "      <td>74069.04020</td>\n",
       "    </tr>\n",
       "    <tr>\n",
       "      <th>Gme2WZGR9TbqxuQCECP1DLcAumU2rw2HFpPUAhGvJ68V</th>\n",
       "      <td>66406.87458</td>\n",
       "    </tr>\n",
       "    <tr>\n",
       "      <th>8pSr6bzRdXLaosKpBmw6WFrZaPGdrybcp1FT691wr2hf</th>\n",
       "      <td>63036.34720</td>\n",
       "    </tr>\n",
       "    <tr>\n",
       "      <th>6cwGnWsKwXWEhoJX1aeiiSEUXVEshHb81myUAZmPwJkW</th>\n",
       "      <td>60129.16604</td>\n",
       "    </tr>\n",
       "    <tr>\n",
       "      <th>6eurANEkQAd7FErNwhnmjYsUGkpbGD3nd14nDjJGTta9</th>\n",
       "      <td>60000.98899</td>\n",
       "    </tr>\n",
       "    <tr>\n",
       "      <th>C9X5BJrRMThETpRrf3pKNEg2tRbiqkKXBP7dN5wH1Dr</th>\n",
       "      <td>53618.38727</td>\n",
       "    </tr>\n",
       "    <tr>\n",
       "      <th>EtGHyzZF7svkLyvHeFvvKCaJUgCReXWNwAqp3yrgXTTV</th>\n",
       "      <td>53216.57159</td>\n",
       "    </tr>\n",
       "    <tr>\n",
       "      <th>FwmvFsu5eMn2CizayDu7qqGbA4ZRQwKYMYiztLHBQdyP</th>\n",
       "      <td>50695.86342</td>\n",
       "    </tr>\n",
       "    <tr>\n",
       "      <th>DNXRj1dF4aB38jKoFxSHSXnFzzGdVaJQqEAJcp9bAcLe</th>\n",
       "      <td>49998.64886</td>\n",
       "    </tr>\n",
       "    <tr>\n",
       "      <th>Fo1GrdkVKSxJQxrSQ7P2LLJGwWVqRstFjXYexo55sQPw</th>\n",
       "      <td>46170.89511</td>\n",
       "    </tr>\n",
       "    <tr>\n",
       "      <th>ECYL9jKBDLjopu9wC6u8ffPphE66TQCeB9He4Kupwex6</th>\n",
       "      <td>45097.87666</td>\n",
       "    </tr>\n",
       "    <tr>\n",
       "      <th>9tBK2mekTMiKrijNLkXwNZyzTJc7Kap8fEyN9s8AsK7z</th>\n",
       "      <td>44225.19263</td>\n",
       "    </tr>\n",
       "    <tr>\n",
       "      <th>Fk8BccTKMNbVkmxVbykD1eUKWqV1WmqC28uvh7UBHytL</th>\n",
       "      <td>43700.23536</td>\n",
       "    </tr>\n",
       "    <tr>\n",
       "      <th>C9K6FBwh1gEwAuRKdHQfwos1x3ER95nt2TSPnjjJ5qnf</th>\n",
       "      <td>40879.73037</td>\n",
       "    </tr>\n",
       "    <tr>\n",
       "      <th>25sJx9xb1DswFWWkoKwgs8fD9dtgcbs9TQHNhn7bWpRb</th>\n",
       "      <td>40798.82041</td>\n",
       "    </tr>\n",
       "  </tbody>\n",
       "</table>\n",
       "</div>"
      ],
      "text/plain": [
       "                                              Staked RAY amount\n",
       "publicKey                                                      \n",
       "9tBhvGNV65AdZbZpB37duEFCAp4ke5Yo2wDFEqU5fkx4       185999.09581\n",
       "Ez2U27TRScksd6q7xoVgX44gX9HAjviN2cdKAL3cFBFE       171359.32330\n",
       "81isTzQuNaa6J1TBCjkUYWzShiPYiyxfykytgUa6byKF       140000.33992\n",
       "5as1FyutWkK7t8mGpssGwLFJhm4e7K3RqYFncAwutUJ6       100737.81612\n",
       "6t6wkuyjUCVtcsh9DP1o9ZS73fEXdrTc32tejSbGRwnx        97884.70933\n",
       "7VGiJgjKzjxJSRNmdHKx8UfzH29UPwVeAFjB3JYgMy4t        74069.04020\n",
       "Gme2WZGR9TbqxuQCECP1DLcAumU2rw2HFpPUAhGvJ68V        66406.87458\n",
       "8pSr6bzRdXLaosKpBmw6WFrZaPGdrybcp1FT691wr2hf        63036.34720\n",
       "6cwGnWsKwXWEhoJX1aeiiSEUXVEshHb81myUAZmPwJkW        60129.16604\n",
       "6eurANEkQAd7FErNwhnmjYsUGkpbGD3nd14nDjJGTta9        60000.98899\n",
       "C9X5BJrRMThETpRrf3pKNEg2tRbiqkKXBP7dN5wH1Dr         53618.38727\n",
       "EtGHyzZF7svkLyvHeFvvKCaJUgCReXWNwAqp3yrgXTTV        53216.57159\n",
       "FwmvFsu5eMn2CizayDu7qqGbA4ZRQwKYMYiztLHBQdyP        50695.86342\n",
       "DNXRj1dF4aB38jKoFxSHSXnFzzGdVaJQqEAJcp9bAcLe        49998.64886\n",
       "Fo1GrdkVKSxJQxrSQ7P2LLJGwWVqRstFjXYexo55sQPw        46170.89511\n",
       "ECYL9jKBDLjopu9wC6u8ffPphE66TQCeB9He4Kupwex6        45097.87666\n",
       "9tBK2mekTMiKrijNLkXwNZyzTJc7Kap8fEyN9s8AsK7z        44225.19263\n",
       "Fk8BccTKMNbVkmxVbykD1eUKWqV1WmqC28uvh7UBHytL        43700.23536\n",
       "C9K6FBwh1gEwAuRKdHQfwos1x3ER95nt2TSPnjjJ5qnf        40879.73037\n",
       "25sJx9xb1DswFWWkoKwgs8fD9dtgcbs9TQHNhn7bWpRb        40798.82041"
      ]
     },
     "execution_count": 41,
     "metadata": {},
     "output_type": "execute_result"
    }
   ],
   "source": [
    "ray_distro.nlargest(20, \"Staked RAY amount\")"
   ]
  },
  {
   "cell_type": "markdown",
   "id": "88baef9a",
   "metadata": {},
   "source": [
    "### MER IDO Oversubscription Estimates"
   ]
  },
  {
   "cell_type": "code",
   "execution_count": 42,
   "id": "e70ce48a",
   "metadata": {},
   "outputs": [],
   "source": [
    "ray_gt_50 = ray_distro[ray_distro['Staked RAY amount'] >= 50]"
   ]
  },
  {
   "cell_type": "code",
   "execution_count": 43,
   "id": "5973c3c2",
   "metadata": {},
   "outputs": [
    {
     "name": "stdout",
     "output_type": "stream",
     "text": [
      "36666 addresses qualifies for RAY 50 Pool for MER IDO\n",
      "Current oversubscription ratio is estimated at 58.67x\n"
     ]
    }
   ],
   "source": [
    "ray_50_count = ray_gt_50.count().values[0]\n",
    "ray_50_oversub = ray_50_count * 200 / 125000\n",
    "print(\"{} addresses qualifies for RAY 50 Pool for MER IDO\".format(ray_50_count))\n",
    "print(\"Current oversubscription ratio is estimated at {:.2f}x\".format(ray_50_oversub))"
   ]
  },
  {
   "cell_type": "code",
   "execution_count": 44,
   "id": "afa280ec",
   "metadata": {},
   "outputs": [],
   "source": [
    "ray_gt_500 = ray_distro[ray_distro['Staked RAY amount'] >= 500]"
   ]
  },
  {
   "cell_type": "code",
   "execution_count": 45,
   "id": "576a9b3b",
   "metadata": {},
   "outputs": [
    {
     "name": "stdout",
     "output_type": "stream",
     "text": [
      "9585 addresses qualifies for RAY 500 Pool for MER IDO\n",
      "Current oversubscription ratio is estimated at 46.01x\n"
     ]
    }
   ],
   "source": [
    "ray_500_count = ray_gt_500.count().values[0]\n",
    "ray_500_oversub = ray_500_count * 600 / 125000\n",
    "print(\"{} addresses qualifies for RAY 500 Pool for MER IDO\".format(ray_500_count))\n",
    "print(\"Current oversubscription ratio is estimated at {:.2f}x\".format(ray_500_oversub))"
   ]
  },
  {
   "cell_type": "code",
   "execution_count": null,
   "id": "2ac93172",
   "metadata": {},
   "outputs": [],
   "source": []
  }
 ],
 "metadata": {
  "kernelspec": {
   "display_name": "Python [conda env:FTX_funding] *",
   "language": "python",
   "name": "conda-env-FTX_funding-py"
  },
  "language_info": {
   "codemirror_mode": {
    "name": "ipython",
    "version": 3
   },
   "file_extension": ".py",
   "mimetype": "text/x-python",
   "name": "python",
   "nbconvert_exporter": "python",
   "pygments_lexer": "ipython3",
   "version": "3.8.8"
  }
 },
 "nbformat": 4,
 "nbformat_minor": 5
}
